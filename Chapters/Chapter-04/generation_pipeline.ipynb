{
 "cells": [
  {
   "cell_type": "markdown",
   "metadata": {},
   "source": [
    "<a href=\"https://mng.bz/8wdg\" target=\"_blank\">\n",
    "    <img src=\"../../Assets/Images/NewMEAPHeader.png\" alt=\"New MEAP\" style=\"width: 100%;\" />\n",
    "</a>\n"
   ]
  },
  {
   "cell_type": "markdown",
   "metadata": {},
   "source": [
    "# Chapter 04 - Generation Pipeline: Generating Contextual LLM Responses"
   ]
  },
  {
   "cell_type": "markdown",
   "metadata": {},
   "source": [
    "### Welcome to chapter 4 of A Simple Introduction to Retrieval Augmented Generation.\n",
    "\n",
    "In this chapter, we introduce the concepts behind the real-time generation pipeline that uses the knowledge base created by the indexing pipeline. This will complete the development of a simple RAG system.\n",
    "\n",
    "The generation pipeline consists of three steps -\n",
    "\n",
    "1. Retrieval\n",
    "2. Augmentation\n",
    "3. Generation"
   ]
  },
  {
   "cell_type": "markdown",
   "metadata": {},
   "source": [
    "<img src=\"../../Assets/Images/4.1.png\" width=800>"
   ]
  },
  {
   "cell_type": "markdown",
   "metadata": {},
   "source": [
    "## Installing Dependencies"
   ]
  },
  {
   "cell_type": "markdown",
   "metadata": {},
   "source": [
    "All the necessary libraries for running this notebook along with their versions can be found in __requirements.txt__ file in the root directory of this repository\n",
    "\n",
    "You should go to the root directory and run the following command to install the libraries\n",
    "\n",
    "```\n",
    "pip install -r requirements.txt\n",
    "```\n",
    "\n",
    "This is the recommended method of installing the dependencies\n",
    "\n",
    "___\n",
    "Alternatively, you can run the command from this notebook too. The relative path may vary"
   ]
  },
  {
   "cell_type": "code",
   "execution_count": 1,
   "metadata": {},
   "outputs": [
    {
     "name": "stdout",
     "output_type": "stream",
     "text": [
      "Note: you may need to restart the kernel to use updated packages.\n"
     ]
    }
   ],
   "source": [
    "%pip install -r ../../requirements.txt --quiet"
   ]
  },
  {
   "cell_type": "markdown",
   "metadata": {},
   "source": [
    "## 1. Load the Vector Index"
   ]
  },
  {
   "cell_type": "markdown",
   "metadata": {},
   "source": [
    "In Chapter 3, we were working on indexing the Wikipedia page for the 2023 cricket world cup. If you recall we had used embeddings from OpenAI to encode the text and used FAISS as the vector index to store the embeddings. We also stored the FAISS index in a local directory. Let’s reuse this index"
   ]
  },
  {
   "cell_type": "markdown",
   "metadata": {},
   "source": [
    "Note: You will need an __OpenAI API Key__ which can be obtained from [OpenAI](https://platform.openai.com/api-keys) to reuse the embeddings."
   ]
  },
  {
   "cell_type": "markdown",
   "metadata": {},
   "source": [
    "To initialize the __OpenAI client__, we need to pass the api key. There are many ways of doing it. \n",
    "\n",
    "####  [Option 1] Creating a .env file for storing the API key and using it # Recommended\n",
    "\n",
    "Install the __dotenv__ library\n",
    "\n",
    "_The dotenv library is a popular tool used in various programming languages, including Python and Node.js, to manage environment variables in development and deployment environments. It allows developers to load environment variables from a .env file into their application's environment._\n",
    "\n",
    "- Create a file named .env in the root directory of their project.\n",
    "- Inside the .env file, then define environment variables in the format VARIABLE_NAME=value. \n",
    "\n",
    "e.g.\n",
    "\n",
    "OPENAI_API_KEY=YOUR API KEY"
   ]
  },
  {
   "cell_type": "code",
   "execution_count": 2,
   "metadata": {},
   "outputs": [
    {
     "name": "stdout",
     "output_type": "stream",
     "text": [
      "Success: .env file found with some environment variables\n"
     ]
    }
   ],
   "source": [
    "from dotenv import load_dotenv\n",
    "import os\n",
    "\n",
    "if load_dotenv():\n",
    "    print(\"Success: .env file found with some environment variables\")\n",
    "else:\n",
    "    print(\"Caution: No environment variables found. Please create .env file in the root directory or add environment variables in the .env file\")"
   ]
  },
  {
   "cell_type": "markdown",
   "metadata": {},
   "source": [
    "#### [Option 2] Alternatively, you can set the API key in code. \n",
    "However, this is not recommended since it can leave your key exposed for potential misuse. Uncomment the cell below to use this method."
   ]
  },
  {
   "cell_type": "code",
   "execution_count": 5,
   "metadata": {},
   "outputs": [],
   "source": [
    "#import os\n",
    "# os.environ[\"OPENAI_API_KEY\"] = \"sk-proj-******\" #Imp : Replace with an OpenAI API Key"
   ]
  },
  {
   "cell_type": "markdown",
   "metadata": {},
   "source": [
    "We can also test if the key is valid or not"
   ]
  },
  {
   "cell_type": "code",
   "execution_count": 6,
   "metadata": {},
   "outputs": [
    {
     "name": "stdout",
     "output_type": "stream",
     "text": [
      "OPENAI_API_KEY is set and is valid\n"
     ]
    }
   ],
   "source": [
    "api_key=os.environ[\"OPENAI_API_KEY\"]\n",
    "\n",
    "from openai import OpenAI\n",
    "\n",
    "client = OpenAI()\n",
    "\n",
    "\n",
    "if api_key:\n",
    "    try:\n",
    "        client.models.list()\n",
    "        print(\"OPENAI_API_KEY is set and is valid\")\n",
    "    except openai.APIError as e:\n",
    "        print(f\"OpenAI API returned an API Error: {e}\")\n",
    "        pass\n",
    "    except openai.APIConnectionError as e:\n",
    "        print(f\"Failed to connect to OpenAI API: {e}\")\n",
    "        pass\n",
    "    except openai.RateLimitError as e:\n",
    "        print(f\"OpenAI API request exceeded rate limit: {e}\")\n",
    "        pass\n",
    "\n",
    "else:\n",
    "    print(\"Please set you OpenAI API key as an environment variable OPENAI_API_KEY\")\n",
    "\n"
   ]
  },
  {
   "cell_type": "code",
   "execution_count": 7,
   "metadata": {},
   "outputs": [],
   "source": [
    "# Import FAISS class from vectorstore library\n",
    "from langchain_community.vectorstores import FAISS\n",
    "\n",
    "# Import OpenAIEmbeddings from the library\n",
    "from langchain_openai import OpenAIEmbeddings\n",
    "\n",
    "# Instantiate the embeddings object\n",
    "embeddings=OpenAIEmbeddings(model=\"text-embedding-3-large\")\n",
    "\n",
    "# Load the database stored in the local directory\n",
    "db=FAISS.load_local(\"../../Assets/Data\", embeddings, allow_dangerous_deserialization=True)\n"
   ]
  },
  {
   "cell_type": "markdown",
   "metadata": {},
   "source": [
    "## 2. Retrieval"
   ]
  },
  {
   "cell_type": "markdown",
   "metadata": {},
   "source": [
    "We will now retrieve a relevant passage from the knowledge base that is pertinent to our query - __\"Who won the 2023 Cricket World Cup?\"__"
   ]
  },
  {
   "cell_type": "markdown",
   "metadata": {},
   "source": [
    "<img src=\"../../Assets/Images/4.2.png\" width=800>"
   ]
  },
  {
   "cell_type": "code",
   "execution_count": 8,
   "metadata": {},
   "outputs": [
    {
     "name": "stdout",
     "output_type": "stream",
     "text": [
      "2023 ICC Men's Cricket World CupDates5 October – 19 November 2023Administrator(s)International Cricket CouncilCricket formatOne Day International (ODI)Tournament format(s)Round-robin and knockoutHost(s) IndiaChampions Australia (6th title)Runners-up IndiaParticipants10Matches48Attendance1,250,307 (26,048 per match)Player of the series Virat KohliMost runs Virat Kohli (765)Most wickets Mohammed Shami (24)Official websitecricketworldcup.com Highlighted are the countries that participated in the 2023 Cricket World Cup. Means of qualification Date Venue Berths Qualified Host nation — — 1  India ICC Super League 30 July 2020 – 14 May 2023 Various 7 Qualifier 18 June 2023 – 9 July 2023 Zimbabwe 2 Total 10 Location Stadium Capacity[19] No. of matches Ahmedabad Narendra Modi Stadium 132,000 5 Bangalore M. Chinnaswamy Stadium 33,800 5 Chennai M. A. Chidambaram Stadium 38,200 5 Delhi Arun Jaitley Stadium 35,200 5 Dharamshala HPCA Stadium 21,200 5 Hyderabad Rajiv Gandhi International Cricket\n"
     ]
    }
   ],
   "source": [
    "# Original Question\n",
    "query = \"Who won the 2023 Cricket World Cup?\"\n",
    "# Ranking the chunks in descending order of similarity\n",
    "docs = db.similarity_search(query)\n",
    "# Printing the top ranked chunk\n",
    "print(docs[0].page_content)"
   ]
  },
  {
   "cell_type": "markdown",
   "metadata": {},
   "source": [
    "This is the most basic implementation of a retriever in the generation pipeline of a RAG-enabled system. This method of retrieval is enabled by embeddings. We used the text-embedding-3-large from OpenAI. FAISS calculated the similarity score based on these embeddings"
   ]
  },
  {
   "cell_type": "markdown",
   "metadata": {},
   "source": [
    "## 3. Augmentation"
   ]
  },
  {
   "cell_type": "markdown",
   "metadata": {},
   "source": [
    "The information fetched by the retriever should also be sent to the LLM in form of a natural language prompt. This process of combining the user query and the retrieved information is called augmentation."
   ]
  },
  {
   "cell_type": "markdown",
   "metadata": {},
   "source": [
    "<img src=\"../../Assets/Images/4.3.png\" width=800>"
   ]
  },
  {
   "cell_type": "markdown",
   "metadata": {},
   "source": [
    "We will now execute augmentation with a simple contextual prompt with controlled generation."
   ]
  },
  {
   "cell_type": "code",
   "execution_count": 9,
   "metadata": {},
   "outputs": [
    {
     "name": "stdout",
     "output_type": "stream",
     "text": [
      "\n",
      "\n",
      "Given the context below answer the question.\n",
      "\n",
      "Question: Who won the 2023 Cricket World Cup? \n",
      "\n",
      "Context : page_content='2023 ICC Men's Cricket World CupDates5 October – 19 November 2023Administrator(s)International Cricket CouncilCricket formatOne Day International (ODI)Tournament format(s)Round-robin and knockoutHost(s) IndiaChampions Australia (6th title)Runners-up IndiaParticipants10Matches48Attendance1,250,307 (26,048 per match)Player of the series Virat KohliMost runs Virat Kohli (765)Most wickets Mohammed Shami (24)Official websitecricketworldcup.com Highlighted are the countries that participated in the 2023 Cricket World Cup. Means of qualification Date Venue Berths Qualified Host nation — — 1  India ICC Super League 30 July 2020 – 14 May 2023 Various 7 Qualifier 18 June 2023 – 9 July 2023 Zimbabwe 2 Total 10 Location Stadium Capacity[19] No. of matches Ahmedabad Narendra Modi Stadium 132,000 5 Bangalore M. Chinnaswamy Stadium 33,800 5 Chennai M. A. Chidambaram Stadium 38,200 5 Delhi Arun Jaitley Stadium 35,200 5 Dharamshala HPCA Stadium 21,200 5 Hyderabad Rajiv Gandhi International Cricket' metadata={'Header 1': '2023 Cricket World Cup'}\n",
      "\n",
      "Remember to answer only based on the context provided and not from any other source. \n",
      "\n",
      "If the question cannot be answered based on the provided context, say I don’t know.\n",
      "\n",
      "\n"
     ]
    }
   ],
   "source": [
    "# Selecting first chunk as the retrieved information\n",
    "retrieved_context=docs[0]\n",
    "\n",
    "# Creating the prompt\n",
    "augmented_prompt=f\"\"\"\n",
    "\n",
    "Given the context below answer the question.\n",
    "\n",
    "Question: {query} \n",
    "\n",
    "Context : {retrieved_context}\n",
    "\n",
    "Remember to answer only based on the context provided and not from any other source. \n",
    "\n",
    "If the question cannot be answered based on the provided context, say I don’t know.\n",
    "\n",
    "\"\"\"\n",
    "\n",
    "print(augmented_prompt)"
   ]
  },
  {
   "cell_type": "markdown",
   "metadata": {},
   "source": [
    "## 4. Generation"
   ]
  },
  {
   "cell_type": "markdown",
   "metadata": {},
   "source": [
    "Generation is the final step of this pipeline. While LLMs may be used in any of the previous steps in the pipeline, the generation step is completely reliant on the LLM. The most popular LLMs are the ones being developed by OpenAI, Anthropic, Meta, Google, Microsoft and Mistral amongst other developers. "
   ]
  },
  {
   "cell_type": "markdown",
   "metadata": {},
   "source": [
    "We have built a simple retriever using FAISS and OpenAI embeddings and, we created a simple augmented prompt. Now we will use OpenAI’s latest model, GPT-4o, to generate the response."
   ]
  },
  {
   "cell_type": "code",
   "execution_count": 10,
   "metadata": {},
   "outputs": [
    {
     "name": "stdout",
     "output_type": "stream",
     "text": [
      "Australia won the 2023 Cricket World Cup.\n"
     ]
    }
   ],
   "source": [
    "# Importing the OpenAI library\n",
    "from openai import OpenAI\n",
    "\n",
    "# Instantiate the OpenAI client\n",
    "client = OpenAI()\n",
    "\n",
    "# Make the API call passing the augmented prompt to the LLM\n",
    "response = client.chat.completions.create(\n",
    "  model=\"gpt-4o\",\n",
    "  messages=\t[\n",
    "    {\"role\": \"user\", \"content\": augmented_prompt}\n",
    "  \t\t]\n",
    ")\n",
    "\n",
    "# Extract the answer from the response object\n",
    "answer=response.choices[0].message.content\n",
    "\n",
    "print(answer)\n"
   ]
  },
  {
   "cell_type": "markdown",
   "metadata": {},
   "source": [
    "## 5. A single chunk of code"
   ]
  },
  {
   "cell_type": "markdown",
   "metadata": {},
   "source": [
    "We can just put all of the above in a single sequence of code"
   ]
  },
  {
   "cell_type": "code",
   "execution_count": 11,
   "metadata": {},
   "outputs": [],
   "source": [
    "# location of the stored vector index created by the indexing pipeline\n",
    "db_path='../../Assets/Data'\n",
    "\n",
    "#Original Question\n",
    "query=\"Who won the 2023 cricket world cup?\""
   ]
  },
  {
   "cell_type": "code",
   "execution_count": 12,
   "metadata": {},
   "outputs": [
    {
     "name": "stdout",
     "output_type": "stream",
     "text": [
      "Australia won the 2023 Cricket World Cup.\n"
     ]
    }
   ],
   "source": [
    "# Instantiate the embeddings object\n",
    "embeddings=OpenAIEmbeddings(model=\"text-embedding-3-large\")\n",
    "\n",
    "# Load the database stored in the local directory\n",
    "db=FAISS.load_local(db_path, embeddings, allow_dangerous_deserialization=True)\n",
    "\n",
    "# Ranking the chunks in descending order of similarity\n",
    "docs = db.similarity_search(query)\n",
    "\n",
    "# Selecting first chunk as the retrieved information\n",
    "retrieved_context=docs[0]\n",
    "\n",
    "# Creating the prompt\n",
    "augmented_prompt=f\"\"\"\n",
    "\n",
    "Given the context below answer the question.\n",
    "\n",
    "Question: {query} \n",
    "\n",
    "Context : {retrieved_context}\n",
    "\n",
    "Remember to answer only based on the context provided and not from any other source. \n",
    "\n",
    "If the question cannot be answered based on the provided context, say I don’t know.\n",
    "\n",
    "\"\"\"\n",
    "# Importing the OpenAI library\n",
    "from openai import OpenAI\n",
    "\n",
    "# Instantiate the OpenAI client\n",
    "client = OpenAI()\n",
    "\n",
    "# Make the API call passing the augmented prompt to the LLM\n",
    "response = client.chat.completions.create(\n",
    "  model=\"gpt-4o\",\n",
    "  messages=\t[\n",
    "    {\"role\": \"user\", \"content\": augmented_prompt}\n",
    "  \t\t]\n",
    ")\n",
    "\n",
    "# Extract the answer from the response object\n",
    "answer=response.choices[0].message.content\n",
    "\n",
    "print(answer)\n"
   ]
  },
  {
   "cell_type": "markdown",
   "metadata": {},
   "source": [
    "And there it is. We have built a generation pipeline, albeit a very simple one. It can now fetch information from the knowledge base and generate an answer that is pertinent to the question asked and rooted in the knowledge base. \n",
    "\n",
    "But, hang on! Let's try asking more questions."
   ]
  },
  {
   "cell_type": "markdown",
   "metadata": {},
   "source": [
    "# 6. RAG function"
   ]
  },
  {
   "cell_type": "markdown",
   "metadata": {},
   "source": [
    "Let us build a function that will take two inputs - \n",
    "1. User Query\n",
    "2. Location of the Vector Index (Knowledge base)\n",
    "\n",
    "And generate an answer"
   ]
  },
  {
   "cell_type": "markdown",
   "metadata": {},
   "source": [
    "#### Retrieval Function"
   ]
  },
  {
   "cell_type": "code",
   "execution_count": 13,
   "metadata": {},
   "outputs": [],
   "source": [
    "def retrieve_context(query, db_path):\n",
    "    embeddings=OpenAIEmbeddings(model=\"text-embedding-3-large\")\n",
    "\n",
    "    # Load the database stored in the local directory\n",
    "    db=FAISS.load_local(db_path, embeddings, allow_dangerous_deserialization=True)\n",
    "\n",
    "    # Ranking the chunks in descending order of similarity\n",
    "    docs = db.similarity_search(query)\n",
    "    # Selecting first chunk as the retrieved information\n",
    "    retrieved_context=docs[0].page_content\n",
    "\n",
    "    return str(retrieved_context)"
   ]
  },
  {
   "cell_type": "code",
   "execution_count": 14,
   "metadata": {},
   "outputs": [
    {
     "name": "stdout",
     "output_type": "stream",
     "text": [
      "2023 ICC Men's Cricket World CupDates5 October – 19 November 2023Administrator(s)International Cricket CouncilCricket formatOne Day International (ODI)Tournament format(s)Round-robin and knockoutHost(s) IndiaChampions Australia (6th title)Runners-up IndiaParticipants10Matches48Attendance1,250,307 (26,048 per match)Player of the series Virat KohliMost runs Virat Kohli (765)Most wickets Mohammed Shami (24)Official websitecricketworldcup.com Highlighted are the countries that participated in the 2023 Cricket World Cup. Means of qualification Date Venue Berths Qualified Host nation — — 1  India ICC Super League 30 July 2020 – 14 May 2023 Various 7 Qualifier 18 June 2023 – 9 July 2023 Zimbabwe 2 Total 10 Location Stadium Capacity[19] No. of matches Ahmedabad Narendra Modi Stadium 132,000 5 Bangalore M. Chinnaswamy Stadium 33,800 5 Chennai M. A. Chidambaram Stadium 38,200 5 Delhi Arun Jaitley Stadium 35,200 5 Dharamshala HPCA Stadium 21,200 5 Hyderabad Rajiv Gandhi International Cricket\n"
     ]
    }
   ],
   "source": [
    "print(retrieve_context(query, db_path))"
   ]
  },
  {
   "cell_type": "markdown",
   "metadata": {},
   "source": [
    "#### Augmentation Function"
   ]
  },
  {
   "cell_type": "code",
   "execution_count": 15,
   "metadata": {},
   "outputs": [],
   "source": [
    "def create_augmeted(query, db_path):\n",
    "\n",
    "    retrieve_context(query,db_path)\n",
    "\n",
    "    # Creating the prompt\n",
    "    augmented_prompt=f\"\"\"\n",
    "\n",
    "    Given the context below answer the question.\n",
    "\n",
    "    Question: {query} \n",
    "\n",
    "    Context : {retrieved_context}\n",
    "\n",
    "    Remember to answer only based on the context provided and not from any other source. \n",
    "\n",
    "    If the question cannot be answered based on the provided context, say I don’t know.\n",
    "\n",
    "    \"\"\"\n",
    "\n",
    "    return str(augmented_prompt)"
   ]
  },
  {
   "cell_type": "code",
   "execution_count": 16,
   "metadata": {},
   "outputs": [
    {
     "name": "stdout",
     "output_type": "stream",
     "text": [
      "\n",
      "\n",
      "    Given the context below answer the question.\n",
      "\n",
      "    Question: Who won the 2023 cricket world cup? \n",
      "\n",
      "    Context : page_content='2023 ICC Men's Cricket World CupDates5 October – 19 November 2023Administrator(s)International Cricket CouncilCricket formatOne Day International (ODI)Tournament format(s)Round-robin and knockoutHost(s) IndiaChampions Australia (6th title)Runners-up IndiaParticipants10Matches48Attendance1,250,307 (26,048 per match)Player of the series Virat KohliMost runs Virat Kohli (765)Most wickets Mohammed Shami (24)Official websitecricketworldcup.com Highlighted are the countries that participated in the 2023 Cricket World Cup. Means of qualification Date Venue Berths Qualified Host nation — — 1  India ICC Super League 30 July 2020 – 14 May 2023 Various 7 Qualifier 18 June 2023 – 9 July 2023 Zimbabwe 2 Total 10 Location Stadium Capacity[19] No. of matches Ahmedabad Narendra Modi Stadium 132,000 5 Bangalore M. Chinnaswamy Stadium 33,800 5 Chennai M. A. Chidambaram Stadium 38,200 5 Delhi Arun Jaitley Stadium 35,200 5 Dharamshala HPCA Stadium 21,200 5 Hyderabad Rajiv Gandhi International Cricket' metadata={'Header 1': '2023 Cricket World Cup'}\n",
      "\n",
      "    Remember to answer only based on the context provided and not from any other source. \n",
      "\n",
      "    If the question cannot be answered based on the provided context, say I don’t know.\n",
      "\n",
      "    \n"
     ]
    }
   ],
   "source": [
    "print(create_augmeted(query, db_path))"
   ]
  },
  {
   "cell_type": "markdown",
   "metadata": {},
   "source": [
    "#### RAG function"
   ]
  },
  {
   "cell_type": "code",
   "execution_count": 17,
   "metadata": {},
   "outputs": [],
   "source": [
    "def create_rag(query, db_path):\n",
    "\n",
    "    augmented_prompt=create_augmeted(query,db_path)\n",
    "\n",
    "    # Importing the OpenAI library\n",
    "    from openai import OpenAI\n",
    "\n",
    "    # Instantiate the OpenAI client\n",
    "    client = OpenAI()\n",
    "\n",
    "    # Make the API call passing the augmented prompt to the LLM\n",
    "    response = client.chat.completions.create(\n",
    "    model=\"gpt-4o\",\n",
    "    messages=\t[\n",
    "        {\"role\": \"user\", \"content\": augmented_prompt}\n",
    "  \t\t]\n",
    "    )\n",
    "\n",
    "    # Extract the answer from the response object\n",
    "    answer=response.choices[0].message.content\n",
    "\n",
    "    return answer\n"
   ]
  },
  {
   "cell_type": "markdown",
   "metadata": {},
   "source": [
    "Let's try sending our question to this function."
   ]
  },
  {
   "cell_type": "code",
   "execution_count": 18,
   "metadata": {},
   "outputs": [
    {
     "data": {
      "text/plain": [
       "'Australia won the 2023 Cricket World Cup.'"
      ]
     },
     "execution_count": 18,
     "metadata": {},
     "output_type": "execute_result"
    }
   ],
   "source": [
    "create_rag(\"Who won the 2023 Cricket World Cup?\",\"../../Assets/Data\" )"
   ]
  },
  {
   "cell_type": "markdown",
   "metadata": {},
   "source": [
    "Let's ask another one."
   ]
  },
  {
   "cell_type": "code",
   "execution_count": 19,
   "metadata": {},
   "outputs": [
    {
     "data": {
      "text/plain": [
       "\"Virat Kohli's achievement in the Cup was being the Player of the Series and scoring the most runs, with a total of 765 runs.\""
      ]
     },
     "execution_count": 19,
     "metadata": {},
     "output_type": "execute_result"
    }
   ],
   "source": [
    "create_rag(\"What was Virat Kohli's achievement in the Cup?\",\"../../Assets/Data\" )"
   ]
  },
  {
   "cell_type": "markdown",
   "metadata": {},
   "source": [
    "We can also ask a list of questions and see what the responses are"
   ]
  },
  {
   "cell_type": "code",
   "execution_count": 20,
   "metadata": {},
   "outputs": [],
   "source": [
    "list_of_queries=['What was the outcome of the match between Australia and the Netherlands on 25 October 2023?',\n",
    " 'What ongoing cricket competition is currently taking place that involves multiple international teams?',\n",
    " 'What was the deadline for teams to finalize their 15-player squads for the 2023 Cricket World Cup?',\n",
    " \"What were the key highlights of the 2023 ICC Men's Cricket World Cup?\",\n",
    " 'What were the key outcomes of the 2023 Cricket World Cup, including the final match results and notable player statistics?',\n",
    " 'What years had Cricket World Cup finals and their host nations?',\n",
    " \"Which org has managed the Cricket World Cup since '75?\",\n",
    " \"What was India's winning margin vs. S. Africa on Nov 5, 2023?\",\n",
    " 'What teams qualified for the semi-finals in the 2023 Cricket World Cup?']"
   ]
  },
  {
   "cell_type": "code",
   "execution_count": 21,
   "metadata": {},
   "outputs": [
    {
     "name": "stdout",
     "output_type": "stream",
     "text": [
      "Query:What was the outcome of the match between Australia and the Netherlands on 25 October 2023?\n",
      "Response: I don’t know. \n",
      "\n",
      "Query:What ongoing cricket competition is currently taking place that involves multiple international teams?\n",
      "Response: The ongoing cricket competition that is currently taking place and involves multiple international teams is the 2023 ICC Men's Cricket World Cup. \n",
      "\n",
      "Query:What was the deadline for teams to finalize their 15-player squads for the 2023 Cricket World Cup?\n",
      "Response: I don’t know. \n",
      "\n",
      "Query:What were the key highlights of the 2023 ICC Men's Cricket World Cup?\n",
      "Response: The key highlights of the 2023 ICC Men's Cricket World Cup based on the provided context are:\n",
      "\n",
      "- **Dates:** The tournament took place from 5 October to 19 November 2023.\n",
      "- **Administrator:** The International Cricket Council (ICC).\n",
      "- **Format:** One Day International (ODI) cricket, employing both round-robin and knockout formats.\n",
      "- **Host:** India.\n",
      "- **Champions:** Australia, winning their 6th title.\n",
      "- **Runners-up:** India.\n",
      "- **Participants:** 10 teams.\n",
      "- **Total Matches:** 48.\n",
      "- **Attendance:** 1,250,307 total, averaging 26,048 per match.\n",
      "- **Player of the Series:** Virat Kohli.\n",
      "- **Most Runs:** Virat Kohli with 765 runs.\n",
      "- **Most Wickets:** Mohammed Shami with 24 wickets. \n",
      "\n",
      "Query:What were the key outcomes of the 2023 Cricket World Cup, including the final match results and notable player statistics?\n",
      "Response: The key outcomes of the 2023 Cricket World Cup were as follows:\n",
      "\n",
      "- **Champions**: Australia (winning their 6th title)\n",
      "- **Runners-up**: India\n",
      "- **Player of the Series**: Virat Kohli\n",
      "- **Most Runs**: Virat Kohli with 765 runs\n",
      "- **Most Wickets**: Mohammed Shami with 24 wickets \n",
      "\n",
      "Query:What years had Cricket World Cup finals and their host nations?\n",
      "Response: I don't know. \n",
      "\n",
      "Query:Which org has managed the Cricket World Cup since '75?\n",
      "Response: The International Cricket Council (ICC) has managed the Cricket World Cup since 1975. \n",
      "\n",
      "Query:What was India's winning margin vs. S. Africa on Nov 5, 2023?\n",
      "Response: I don’t know. \n",
      "\n",
      "Query:What teams qualified for the semi-finals in the 2023 Cricket World Cup?\n",
      "Response: I don’t know. \n",
      "\n"
     ]
    }
   ],
   "source": [
    "for query in list_of_queries:\n",
    "    print(f\"Query:{query}\")\n",
    "    print(f\"Response: {create_rag(query,db_path)} \\n\")\n"
   ]
  },
  {
   "cell_type": "markdown",
   "metadata": {},
   "source": [
    "For some of the questions above, the response may be \"I don't know\". That is when the LLM can't find an answer in the retrieved context. In our augmentation step, we had asked the LLM to do so."
   ]
  },
  {
   "cell_type": "markdown",
   "metadata": {},
   "source": [
    "---"
   ]
  },
  {
   "cell_type": "markdown",
   "metadata": {},
   "source": [
    "Is the RAG system that we have created generating the responses on the expected lines? Is the LLM still hallucinating? Before trying to improve the performance of the system we need to be able to measure and benchmark it. That is what we will do in chapter 5. We will look at the evaluation metrics and the popular benchmarks for RAG."
   ]
  },
  {
   "cell_type": "markdown",
   "metadata": {},
   "source": [
    "---"
   ]
  },
  {
   "cell_type": "markdown",
   "metadata": {},
   "source": [
    "<img src=\"../../Assets/Images/profile_s.png\" width=100> \n",
    "\n",
    "Hi! I'm Abhinav! I am an entrepreneur and Vice President of Artificial Intelligence at Yarnit. I have spent over 15 years consulting and leadership roles in data science, machine learning and AI. My current focus is in the applied Generative AI domain focussing on solving enterprise needs through contextual intelligence. I'm passionate about AI advancements constantly exploring emerging technologies to push the boundaries and create positive impacts in the world. Let’s build the future, together!\n",
    "\n",
    "[If you haven't already, please subscribe to the MEAP of A Simple Guide to Retrieval Augmented Generation here](https://mng.bz/8wdg)\n",
    "\n",
    "<a href=\"https://mng.bz/8wdg\" target=\"_blank\">\n",
    "    <img src=\"../../Assets/Images/NewMEAPFooter.png\" alt=\"New MEAP\" style=\"width: 100%;\" />\n",
    "</a>\n",
    "\n",
    "#### If you'd like to chat, I'd be very happy to connect\n",
    "\n",
    "[![GitHub followers](https://img.shields.io/badge/Github-000000?style=for-the-badge&logo=github&logoColor=black&color=orange)](https://github.com/abhinav-kimothi)\n",
    "[![LinkedIn](https://img.shields.io/badge/LinkedIn-000000?style=for-the-badge&logo=linkedin&logoColor=orange&color=black)](https://www.linkedin.com/comm/mynetwork/discovery-see-all?usecase=PEOPLE_FOLLOWS&followMember=abhinav-kimothi)\n",
    "[![Medium](https://img.shields.io/badge/Medium-000000?style=for-the-badge&logo=medium&logoColor=black&color=orange)](https://medium.com/@abhinavkimothi)\n",
    "[![Insta](https://img.shields.io/badge/Instagram-000000?style=for-the-badge&logo=instagram&logoColor=orange&color=black)](https://www.instagram.com/akaiworks/)\n",
    "[![Mail](https://img.shields.io/badge/email-000000?style=for-the-badge&logo=gmail&logoColor=black&color=orange)](mailto:abhinav.kimothi.ds@gmail.com)\n",
    "[![X](https://img.shields.io/badge/Follow-000000?style=for-the-badge&logo=X&logoColor=orange&color=black)](https://twitter.com/abhinav_kimothi)\n",
    "[![Linktree](https://img.shields.io/badge/Linktree-000000?style=for-the-badge&logo=linktree&logoColor=black&color=orange)](https://linktr.ee/abhinavkimothi)\n",
    "[![Gumroad](https://img.shields.io/badge/Gumroad-000000?style=for-the-badge&logo=gumroad&logoColor=orange&color=black)](https://abhinavkimothi.gumroad.com/)\n",
    "\n",
    "---"
   ]
  }
 ],
 "metadata": {
  "kernelspec": {
   "display_name": ".myenv",
   "language": "python",
   "name": "python3"
  },
  "language_info": {
   "codemirror_mode": {
    "name": "ipython",
    "version": 3
   },
   "file_extension": ".py",
   "mimetype": "text/x-python",
   "name": "python",
   "nbconvert_exporter": "python",
   "pygments_lexer": "ipython3",
   "version": "3.11.1"
  }
 },
 "nbformat": 4,
 "nbformat_minor": 2
}
