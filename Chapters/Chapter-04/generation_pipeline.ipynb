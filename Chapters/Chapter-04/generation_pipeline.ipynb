{
 "cells": [
  {
   "cell_type": "markdown",
   "metadata": {},
   "source": [
    "<a href=\"https://mng.bz/8wdg\" target=\"_blank\">\n",
    "    <img src=\"../../Assets/Images/NewMEAPHeader.png\" alt=\"New MEAP\" style=\"width: 100%;\" />\n",
    "</a>\n"
   ]
  },
  {
   "cell_type": "markdown",
   "metadata": {},
   "source": [
    "# Chapter 04 - Generation Pipeline: Generating Contextual LLM Responses"
   ]
  },
  {
   "cell_type": "markdown",
   "metadata": {},
   "source": [
    "### Welcome to chapter 3 of A Simple Introduction to Retrieval Augmented Generation.\n",
    "\n",
    "In this chapter, we introduce the concepts behind the real-time generation pipeline that uses the knowledge base created by the indexing pipeline. This will complete the development of a simple RAG system.\n",
    "\n",
    "The generation pipeline consists of three steps -\n",
    "\n",
    "1. Retrieval\n",
    "2. Augmentation\n",
    "3. Generation"
   ]
  },
  {
   "cell_type": "markdown",
   "metadata": {},
   "source": [
    "<img src=\"../../Assets/Images/4.1.png\" width=800>"
   ]
  },
  {
   "cell_type": "markdown",
   "metadata": {},
   "source": [
    "## Installing Dependencies"
   ]
  },
  {
   "cell_type": "markdown",
   "metadata": {},
   "source": [
    "Installing all dependencies. While in the book, you'll find that libraries have been imported when their need arises, here we install all dependencies at one place for the sake of a clean code."
   ]
  },
  {
   "cell_type": "code",
   "execution_count": 66,
   "metadata": {},
   "outputs": [
    {
     "name": "stdout",
     "output_type": "stream",
     "text": [
      "Note: you may need to restart the kernel to use updated packages.\n",
      "Note: you may need to restart the kernel to use updated packages.\n",
      "Note: you may need to restart the kernel to use updated packages.\n",
      "Note: you may need to restart the kernel to use updated packages.\n",
      "Note: you may need to restart the kernel to use updated packages.\n",
      "Note: you may need to restart the kernel to use updated packages.\n",
      "Note: you may need to restart the kernel to use updated packages.\n",
      "Note: you may need to restart the kernel to use updated packages.\n",
      "Note: you may need to restart the kernel to use updated packages.\n",
      "Note: you may need to restart the kernel to use updated packages.\n",
      "Note: you may need to restart the kernel to use updated packages.\n",
      "Note: you may need to restart the kernel to use updated packages.\n",
      "Note: you may need to restart the kernel to use updated packages.\n"
     ]
    }
   ],
   "source": [
    "%pip install --upgrade pip --quiet\n",
    "%pip install langchain==0.2.11 --quiet\n",
    "%pip install bs4==0.0.2 --quiet\n",
    "%pip install html2text==2024.2.26 --quiet\n",
    "%pip install lxml==5.2.2 --quiet\n",
    "%pip install sentence-transformers==3.0.1 --quiet\n",
    "%pip install langchain_openai==0.1.17 --quiet\n",
    "%pip install faiss-cpu==1.8.0.post1 --quiet\n",
    "%pip install langchain-community==0.2.10 --quiet\n",
    "%pip install tqdm==4.66.4 --quiet\n",
    "%pip install langchain-huggingface==0.0.3 --quiet\n",
    "%pip install scikit-learn==1.4.2 --quiet\n",
    "%pip install rank_bm25==0.2.2 --quiet\n"
   ]
  },
  {
   "cell_type": "markdown",
   "metadata": {},
   "source": [
    "## 1. Load the Vector Index"
   ]
  },
  {
   "cell_type": "markdown",
   "metadata": {},
   "source": [
    "In Chapter 3, we were working on indexing the Wikipedia page for the 2023 cricket world cup. If you recall we had used embeddings from OpenAI to encode the text and used FAISS as the vector index to store the embeddings. We also stored the FAISS index in a local directory. Let’s reuse this index"
   ]
  },
  {
   "cell_type": "code",
   "execution_count": 67,
   "metadata": {},
   "outputs": [],
   "source": [
    "# Import FAISS class from vectorstore library\n",
    "from langchain_community.vectorstores import FAISS\n",
    "\n",
    "# Import OpenAIEmbeddings from the library\n",
    "from langchain_openai import OpenAIEmbeddings\n",
    "\n",
    "# Set the OPENAI_API_KEY as the environment variable\n",
    "import os\n",
    "os.environ[\"OPENAI_API_KEY\"] = \"YOUR API KEY\" #Imp : Replace with an OpenAI API Key\n",
    "\n",
    "# Instantiate the embeddings object\n",
    "embeddings=OpenAIEmbeddings(model=\"text-embedding-3-large\")\n",
    "\n",
    "# Load the database stored in the local directory\n",
    "db=FAISS.load_local(\"../../Assets/Data\", embeddings, allow_dangerous_deserialization=True)\n"
   ]
  },
  {
   "cell_type": "markdown",
   "metadata": {},
   "source": [
    "## 2. Retrieval"
   ]
  },
  {
   "cell_type": "markdown",
   "metadata": {},
   "source": [
    "We will now retrieve a relevant passage from the knowledge base that is pertinent to our query - __\"Who won the 2023 Cricket World Cup?\"__"
   ]
  },
  {
   "cell_type": "markdown",
   "metadata": {},
   "source": [
    "<img src=\"../../Assets/Images/4.2.png\" width=800>"
   ]
  },
  {
   "cell_type": "code",
   "execution_count": 68,
   "metadata": {},
   "outputs": [
    {
     "name": "stdout",
     "output_type": "stream",
     "text": [
      "2023 ICC Men's Cricket World CupDates5 October – 19 November 2023Administrator(s)International Cricket CouncilCricket formatOne Day International (ODI)Tournament format(s)Round-robin and knockoutHost(s) IndiaChampions Australia (6th title)Runners-up IndiaParticipants10Matches48Attendance1,250,307 (26,048 per match)Player of the series Virat KohliMost runs Virat Kohli (765)Most wickets Mohammed Shami (24)Official websitecricketworldcup.com Highlighted are the countries that participated in the 2023 Cricket World Cup. Means of qualification Date Venue Berths Qualified Host nation — — 1  India ICC Super League 30 July 2020 – 14 May 2023 Various 7 Qualifier 18 June 2023 – 9 July 2023 Zimbabwe 2 Total 10 Location Stadium Capacity[19] No. of matches Ahmedabad Narendra Modi Stadium 132,000 5 Bangalore M. Chinnaswamy Stadium 33,800 5 Chennai M. A. Chidambaram Stadium 38,200 5 Delhi Arun Jaitley Stadium 35,200 5 Dharamshala HPCA Stadium 21,200 5 Hyderabad Rajiv Gandhi International Cricket\n"
     ]
    }
   ],
   "source": [
    "# Original Question\n",
    "query = \"Who won the 2023 Cricket World Cup?\"\n",
    "# Ranking the chunks in descending order of similarity\n",
    "docs = db.similarity_search(query)\n",
    "# Printing the top ranked chunk\n",
    "print(docs[0].page_content)"
   ]
  },
  {
   "cell_type": "markdown",
   "metadata": {},
   "source": [
    "This is the most basic implementation of a retriever in the generation pipeline of a RAG-enabled system. This method of retrieval is enabled by embeddings. We used the text-embedding-3-large from OpenAI. FAISS calculated the similarity score based on these embeddings"
   ]
  },
  {
   "cell_type": "markdown",
   "metadata": {},
   "source": [
    "## 3. Augmentation"
   ]
  },
  {
   "cell_type": "markdown",
   "metadata": {},
   "source": [
    "The information fetched by the retriever should also be sent to the LLM in form of a natural language prompt. This process of combining the user query and the retrieved information is called augmentation."
   ]
  },
  {
   "cell_type": "markdown",
   "metadata": {},
   "source": [
    "<img src=\"../../Assets/Images/4.3.png\" width=800>"
   ]
  },
  {
   "cell_type": "markdown",
   "metadata": {},
   "source": [
    "We will now execute augmentation with a simple contextual prompt with controlled generation."
   ]
  },
  {
   "cell_type": "code",
   "execution_count": 69,
   "metadata": {},
   "outputs": [
    {
     "name": "stdout",
     "output_type": "stream",
     "text": [
      "\n",
      "\n",
      "Given the context below answer the question.\n",
      "\n",
      "Question: Who won the 2023 Cricket World Cup? \n",
      "\n",
      "Context : page_content='2023 ICC Men's Cricket World CupDates5 October – 19 November 2023Administrator(s)International Cricket CouncilCricket formatOne Day International (ODI)Tournament format(s)Round-robin and knockoutHost(s) IndiaChampions Australia (6th title)Runners-up IndiaParticipants10Matches48Attendance1,250,307 (26,048 per match)Player of the series Virat KohliMost runs Virat Kohli (765)Most wickets Mohammed Shami (24)Official websitecricketworldcup.com Highlighted are the countries that participated in the 2023 Cricket World Cup. Means of qualification Date Venue Berths Qualified Host nation — — 1  India ICC Super League 30 July 2020 – 14 May 2023 Various 7 Qualifier 18 June 2023 – 9 July 2023 Zimbabwe 2 Total 10 Location Stadium Capacity[19] No. of matches Ahmedabad Narendra Modi Stadium 132,000 5 Bangalore M. Chinnaswamy Stadium 33,800 5 Chennai M. A. Chidambaram Stadium 38,200 5 Delhi Arun Jaitley Stadium 35,200 5 Dharamshala HPCA Stadium 21,200 5 Hyderabad Rajiv Gandhi International Cricket' metadata={'Header 1': '2023 Cricket World Cup'}\n",
      "\n",
      "Remember to answer only based on the context provided and not from any other source. \n",
      "\n",
      "If the question cannot be answered based on the provided context, say I don’t know.\n",
      "\n",
      "\n"
     ]
    }
   ],
   "source": [
    "# Selecting first chunk as the retrieved information\n",
    "retrieved_context=docs[0]\n",
    "\n",
    "# Creating the prompt\n",
    "augmented_prompt=f\"\"\"\n",
    "\n",
    "Given the context below answer the question.\n",
    "\n",
    "Question: {query} \n",
    "\n",
    "Context : {retrieved_context}\n",
    "\n",
    "Remember to answer only based on the context provided and not from any other source. \n",
    "\n",
    "If the question cannot be answered based on the provided context, say I don’t know.\n",
    "\n",
    "\"\"\"\n",
    "\n",
    "print(augmented_prompt)"
   ]
  },
  {
   "cell_type": "markdown",
   "metadata": {},
   "source": [
    "## 4. Generation"
   ]
  },
  {
   "cell_type": "markdown",
   "metadata": {},
   "source": [
    "Generation is the final step of this pipeline. While LLMs may be used in any of the previous steps in the pipeline, the generation step is completely reliant on the LLM. The most popular LLMs are the ones being developed by OpenAI, Anthropic, Meta, Google, Microsoft and Mistral amongst other developers. "
   ]
  },
  {
   "cell_type": "markdown",
   "metadata": {},
   "source": [
    "We have built a simple retriever using FAISS and OpenAI embeddings and, we created a simple augmented prompt. Now we will use OpenAI’s latest model, GPT-4o, to generate the response."
   ]
  },
  {
   "cell_type": "code",
   "execution_count": 70,
   "metadata": {},
   "outputs": [
    {
     "name": "stdout",
     "output_type": "stream",
     "text": [
      "Australia won the 2023 Cricket World Cup.\n"
     ]
    }
   ],
   "source": [
    "# Importing the OpenAI library\n",
    "from openai import OpenAI\n",
    "\n",
    "# Instantiate the OpenAI client\n",
    "client = OpenAI()\n",
    "\n",
    "# Make the API call passing the augmented prompt to the LLM\n",
    "response = client.chat.completions.create(\n",
    "  model=\"gpt-4o\",\n",
    "  messages=\t[\n",
    "    {\"role\": \"user\", \"content\": augmented_prompt}\n",
    "  \t\t]\n",
    ")\n",
    "\n",
    "# Extract the answer from the response object\n",
    "answer=response.choices[0].message.content\n",
    "\n",
    "print(answer)\n"
   ]
  },
  {
   "cell_type": "markdown",
   "metadata": {},
   "source": [
    "## 5. A single chunk of code"
   ]
  },
  {
   "cell_type": "markdown",
   "metadata": {},
   "source": [
    "We can just put all of the above in a single sequence of code"
   ]
  },
  {
   "cell_type": "code",
   "execution_count": 71,
   "metadata": {},
   "outputs": [],
   "source": [
    "# location of the stored vector index created by the indexing pipeline\n",
    "db_path='../../Assets/Data'\n",
    "\n",
    "#Original Question\n",
    "query=\"Who won the 2023 cricket world cup?\""
   ]
  },
  {
   "cell_type": "code",
   "execution_count": 72,
   "metadata": {},
   "outputs": [
    {
     "name": "stdout",
     "output_type": "stream",
     "text": [
      "Australia won the 2023 Cricket World Cup.\n"
     ]
    }
   ],
   "source": [
    "# Instantiate the embeddings object\n",
    "embeddings=OpenAIEmbeddings(model=\"text-embedding-3-large\")\n",
    "\n",
    "# Load the database stored in the local directory\n",
    "db=FAISS.load_local(db_path, embeddings, allow_dangerous_deserialization=True)\n",
    "\n",
    "# Ranking the chunks in descending order of similarity\n",
    "docs = db.similarity_search(query)\n",
    "\n",
    "# Selecting first chunk as the retrieved information\n",
    "retrieved_context=docs[0]\n",
    "\n",
    "# Creating the prompt\n",
    "augmented_prompt=f\"\"\"\n",
    "\n",
    "Given the context below answer the question.\n",
    "\n",
    "Question: {query} \n",
    "\n",
    "Context : {retrieved_context}\n",
    "\n",
    "Remember to answer only based on the context provided and not from any other source. \n",
    "\n",
    "If the question cannot be answered based on the provided context, say I don’t know.\n",
    "\n",
    "\"\"\"\n",
    "# Importing the OpenAI library\n",
    "from openai import OpenAI\n",
    "\n",
    "# Instantiate the OpenAI client\n",
    "client = OpenAI()\n",
    "\n",
    "# Make the API call passing the augmented prompt to the LLM\n",
    "response = client.chat.completions.create(\n",
    "  model=\"gpt-4o\",\n",
    "  messages=\t[\n",
    "    {\"role\": \"user\", \"content\": augmented_prompt}\n",
    "  \t\t]\n",
    ")\n",
    "\n",
    "# Extract the answer from the response object\n",
    "answer=response.choices[0].message.content\n",
    "\n",
    "print(answer)\n"
   ]
  },
  {
   "cell_type": "markdown",
   "metadata": {},
   "source": [
    "And there it is. We have built a generation pipeline, albeit a very simple one. It can now fetch information from the knowledge base and generate an answer that is pertinent to the question asked and rooted in the knowledge base. \n",
    "\n",
    "But, hang on! Let's try asking more questions."
   ]
  },
  {
   "cell_type": "markdown",
   "metadata": {},
   "source": [
    "# 6. RAG function"
   ]
  },
  {
   "cell_type": "markdown",
   "metadata": {},
   "source": [
    "Let us build a function that will take two inputs - \n",
    "1. User Query\n",
    "2. Location of the Vector Index (Knowledge base)\n",
    "\n",
    "And generate an answer"
   ]
  },
  {
   "cell_type": "markdown",
   "metadata": {},
   "source": [
    "#### Retrieval Function"
   ]
  },
  {
   "cell_type": "code",
   "execution_count": 73,
   "metadata": {},
   "outputs": [],
   "source": [
    "def retrieve_context(query, db_path):\n",
    "    embeddings=OpenAIEmbeddings(model=\"text-embedding-3-large\")\n",
    "\n",
    "    # Load the database stored in the local directory\n",
    "    db=FAISS.load_local(db_path, embeddings, allow_dangerous_deserialization=True)\n",
    "\n",
    "    # Ranking the chunks in descending order of similarity\n",
    "    docs = db.similarity_search(query)\n",
    "    # Selecting first chunk as the retrieved information\n",
    "    retrieved_context=docs[0].page_content\n",
    "\n",
    "    return str(retrieved_context)"
   ]
  },
  {
   "cell_type": "code",
   "execution_count": 74,
   "metadata": {},
   "outputs": [
    {
     "name": "stdout",
     "output_type": "stream",
     "text": [
      "2023 ICC Men's Cricket World CupDates5 October – 19 November 2023Administrator(s)International Cricket CouncilCricket formatOne Day International (ODI)Tournament format(s)Round-robin and knockoutHost(s) IndiaChampions Australia (6th title)Runners-up IndiaParticipants10Matches48Attendance1,250,307 (26,048 per match)Player of the series Virat KohliMost runs Virat Kohli (765)Most wickets Mohammed Shami (24)Official websitecricketworldcup.com Highlighted are the countries that participated in the 2023 Cricket World Cup. Means of qualification Date Venue Berths Qualified Host nation — — 1  India ICC Super League 30 July 2020 – 14 May 2023 Various 7 Qualifier 18 June 2023 – 9 July 2023 Zimbabwe 2 Total 10 Location Stadium Capacity[19] No. of matches Ahmedabad Narendra Modi Stadium 132,000 5 Bangalore M. Chinnaswamy Stadium 33,800 5 Chennai M. A. Chidambaram Stadium 38,200 5 Delhi Arun Jaitley Stadium 35,200 5 Dharamshala HPCA Stadium 21,200 5 Hyderabad Rajiv Gandhi International Cricket\n"
     ]
    }
   ],
   "source": [
    "print(retrieve_context(query, db_path))"
   ]
  },
  {
   "cell_type": "markdown",
   "metadata": {},
   "source": [
    "#### Augmentation Function"
   ]
  },
  {
   "cell_type": "code",
   "execution_count": 75,
   "metadata": {},
   "outputs": [],
   "source": [
    "def create_augmeted(query, db_path):\n",
    "\n",
    "    retrieve_context(query,db_path)\n",
    "\n",
    "    # Creating the prompt\n",
    "    augmented_prompt=f\"\"\"\n",
    "\n",
    "    Given the context below answer the question.\n",
    "\n",
    "    Question: {query} \n",
    "\n",
    "    Context : {retrieved_context}\n",
    "\n",
    "    Remember to answer only based on the context provided and not from any other source. \n",
    "\n",
    "    If the question cannot be answered based on the provided context, say I don’t know.\n",
    "\n",
    "    \"\"\"\n",
    "\n",
    "    return str(augmented_prompt)"
   ]
  },
  {
   "cell_type": "code",
   "execution_count": 76,
   "metadata": {},
   "outputs": [
    {
     "name": "stdout",
     "output_type": "stream",
     "text": [
      "\n",
      "\n",
      "    Given the context below answer the question.\n",
      "\n",
      "    Question: Who won the 2023 cricket world cup? \n",
      "\n",
      "    Context : page_content='2023 ICC Men's Cricket World CupDates5 October – 19 November 2023Administrator(s)International Cricket CouncilCricket formatOne Day International (ODI)Tournament format(s)Round-robin and knockoutHost(s) IndiaChampions Australia (6th title)Runners-up IndiaParticipants10Matches48Attendance1,250,307 (26,048 per match)Player of the series Virat KohliMost runs Virat Kohli (765)Most wickets Mohammed Shami (24)Official websitecricketworldcup.com Highlighted are the countries that participated in the 2023 Cricket World Cup. Means of qualification Date Venue Berths Qualified Host nation — — 1  India ICC Super League 30 July 2020 – 14 May 2023 Various 7 Qualifier 18 June 2023 – 9 July 2023 Zimbabwe 2 Total 10 Location Stadium Capacity[19] No. of matches Ahmedabad Narendra Modi Stadium 132,000 5 Bangalore M. Chinnaswamy Stadium 33,800 5 Chennai M. A. Chidambaram Stadium 38,200 5 Delhi Arun Jaitley Stadium 35,200 5 Dharamshala HPCA Stadium 21,200 5 Hyderabad Rajiv Gandhi International Cricket' metadata={'Header 1': '2023 Cricket World Cup'}\n",
      "\n",
      "    Remember to answer only based on the context provided and not from any other source. \n",
      "\n",
      "    If the question cannot be answered based on the provided context, say I don’t know.\n",
      "\n",
      "    \n"
     ]
    }
   ],
   "source": [
    "print(create_augmeted(query, db_path))"
   ]
  },
  {
   "cell_type": "markdown",
   "metadata": {},
   "source": [
    "#### RAG function"
   ]
  },
  {
   "cell_type": "code",
   "execution_count": 77,
   "metadata": {},
   "outputs": [],
   "source": [
    "def create_rag(query, db_path):\n",
    "\n",
    "    augmented_prompt=create_augmeted(query,db_path)\n",
    "\n",
    "    # Importing the OpenAI library\n",
    "    from openai import OpenAI\n",
    "\n",
    "    # Instantiate the OpenAI client\n",
    "    client = OpenAI()\n",
    "\n",
    "    # Make the API call passing the augmented prompt to the LLM\n",
    "    response = client.chat.completions.create(\n",
    "    model=\"gpt-4o\",\n",
    "    messages=\t[\n",
    "        {\"role\": \"user\", \"content\": augmented_prompt}\n",
    "  \t\t]\n",
    "    )\n",
    "\n",
    "    # Extract the answer from the response object\n",
    "    answer=response.choices[0].message.content\n",
    "\n",
    "    return answer\n"
   ]
  },
  {
   "cell_type": "markdown",
   "metadata": {},
   "source": [
    "Let's try sending our question to this function."
   ]
  },
  {
   "cell_type": "code",
   "execution_count": 78,
   "metadata": {},
   "outputs": [
    {
     "data": {
      "text/plain": [
       "'Australia won the 2023 Cricket World Cup.'"
      ]
     },
     "execution_count": 78,
     "metadata": {},
     "output_type": "execute_result"
    }
   ],
   "source": [
    "create_rag(\"Who won the 2023 Cricket World Cup?\",\"../../Assets/Data\" )"
   ]
  },
  {
   "cell_type": "markdown",
   "metadata": {},
   "source": [
    "Let's ask another one."
   ]
  },
  {
   "cell_type": "code",
   "execution_count": 79,
   "metadata": {},
   "outputs": [
    {
     "data": {
      "text/plain": [
       "\"Virat Kohli's achievement in the Cup was being the Player of the Series and scoring the most runs (765) in the tournament.\""
      ]
     },
     "execution_count": 79,
     "metadata": {},
     "output_type": "execute_result"
    }
   ],
   "source": [
    "create_rag(\"What was Virat Kohli's achievement in the Cup?\",\"../../Assets/Data\" )"
   ]
  },
  {
   "cell_type": "markdown",
   "metadata": {},
   "source": [
    "We can also ask a list of questions and see what the responses are"
   ]
  },
  {
   "cell_type": "code",
   "execution_count": 80,
   "metadata": {},
   "outputs": [],
   "source": [
    "list_of_queries=['What was the outcome of the match between Australia and the Netherlands on 25 October 2023?',\n",
    " 'What ongoing cricket competition is currently taking place that involves multiple international teams?',\n",
    " 'What was the deadline for teams to finalize their 15-player squads for the 2023 Cricket World Cup?',\n",
    " \"What were the key highlights of the 2023 ICC Men's Cricket World Cup?\",\n",
    " 'What were the key outcomes of the 2023 Cricket World Cup, including the final match results and notable player statistics?',\n",
    " 'What years had Cricket World Cup finals and their host nations?',\n",
    " \"Which org has managed the Cricket World Cup since '75?\",\n",
    " \"What was India's winning margin vs. S. Africa on Nov 5, 2023?\",\n",
    " 'What teams qualified for the semi-finals in the 2023 Cricket World Cup?']"
   ]
  },
  {
   "cell_type": "code",
   "execution_count": 81,
   "metadata": {},
   "outputs": [
    {
     "name": "stdout",
     "output_type": "stream",
     "text": [
      "Query:What was the outcome of the match between Australia and the Netherlands on 25 October 2023?\n",
      "Response: I don’t know. \n",
      "\n",
      "Query:What ongoing cricket competition is currently taking place that involves multiple international teams?\n",
      "Response: The ongoing cricket competition that is currently taking place and involves multiple international teams is the 2023 ICC Men's Cricket World Cup. \n",
      "\n",
      "Query:What was the deadline for teams to finalize their 15-player squads for the 2023 Cricket World Cup?\n",
      "Response: I don’t know. \n",
      "\n",
      "Query:What were the key highlights of the 2023 ICC Men's Cricket World Cup?\n",
      "Response: The key highlights of the 2023 ICC Men's Cricket World Cup include:\n",
      "\n",
      "- Dates: The tournament took place from 5 October to 19 November 2023.\n",
      "- Host: The tournament was hosted by India.\n",
      "- Champions: Australia won the tournament, claiming their 6th title.\n",
      "- Runners-up: India finished as the runners-up.\n",
      "- Number of participants: There were 10 participating teams.\n",
      "- Number of matches: A total of 48 matches were played.\n",
      "- Attendance: The total attendance was 1,250,307, averaging 26,048 per match.\n",
      "- Player of the series: Virat Kohli was named the Player of the series.\n",
      "- Most runs: Virat Kohli scored the most runs in the tournament, totaling 765.\n",
      "- Most wickets: Mohammed Shami took the most wickets, with a count of 24. \n",
      "\n",
      "Query:What were the key outcomes of the 2023 Cricket World Cup, including the final match results and notable player statistics?\n",
      "Response: The key outcomes of the 2023 Cricket World Cup are as follows:\n",
      "\n",
      "- **Champions**: Australia (winning their 6th title)\n",
      "- **Runners-up**: India\n",
      "- **Player of the series**: Virat Kohli\n",
      "- **Most runs**: Virat Kohli (765 runs)\n",
      "- **Most wickets**: Mohammed Shami (24 wickets)\n",
      "\n",
      "The final match results and other specific details about the final match itself are not provided in the given context. \n",
      "\n",
      "Query:What years had Cricket World Cup finals and their host nations?\n",
      "Response: I don’t know. \n",
      "\n",
      "Query:Which org has managed the Cricket World Cup since '75?\n",
      "Response: The International Cricket Council (ICC) has managed the Cricket World Cup since 1975. \n",
      "\n",
      "Query:What was India's winning margin vs. S. Africa on Nov 5, 2023?\n",
      "Response: I don’t know. \n",
      "\n",
      "Query:What teams qualified for the semi-finals in the 2023 Cricket World Cup?\n",
      "Response: I don’t know. \n",
      "\n"
     ]
    }
   ],
   "source": [
    "for query in list_of_queries:\n",
    "    print(f\"Query:{query}\")\n",
    "    print(f\"Response: {create_rag(query,db_path)} \\n\")\n"
   ]
  },
  {
   "cell_type": "markdown",
   "metadata": {},
   "source": [
    "For some of the questions above, the response may be \"I don't know\". That is when the LLM can't find an answer in the retrieved context. In our augmentation step, we had asked the LLM to do so."
   ]
  },
  {
   "cell_type": "markdown",
   "metadata": {},
   "source": [
    "---"
   ]
  },
  {
   "cell_type": "markdown",
   "metadata": {},
   "source": [
    "Is the RAG system that we have created generating the responses on the expected lines? Is the LLM still hallucinating? Before trying to improve the performance of the system we need to be able to measure and benchmark it. That is what we will do in chapter 5. We will look at the evaluation metrics and the popular benchmarks for RAG."
   ]
  },
  {
   "cell_type": "markdown",
   "metadata": {},
   "source": [
    "---"
   ]
  },
  {
   "cell_type": "markdown",
   "metadata": {},
   "source": [
    "<img src=\"../../Assets/Images/profile_s.png\" width=100> \n",
    "\n",
    "Hi! I'm Abhinav! I am an entrepreneur and Vice President of Artificial Intelligence at Yarnit. I have spent over 15 years consulting and leadership roles in data science, machine learning and AI. My current focus is in the applied Generative AI domain focussing on solving enterprise needs through contextual intelligence. I'm passionate about AI advancements constantly exploring emerging technologies to push the boundaries and create positive impacts in the world. Let’s build the future, together!\n",
    "\n",
    "[If you haven't already, please subscribe to the MEAP of A Simple Guide to Retrieval Augmented Generation here](https://mng.bz/8wdg)\n",
    "\n",
    "<a href=\"https://mng.bz/8wdg\" target=\"_blank\">\n",
    "    <img src=\"../../Assets/Images/NewMEAPFooter.png\" alt=\"New MEAP\" style=\"width: 100%;\" />\n",
    "</a>\n",
    "\n",
    "#### If you'd like to chat, I'd be very happy to connect\n",
    "\n",
    "[![GitHub followers](https://img.shields.io/badge/Github-000000?style=for-the-badge&logo=github&logoColor=black&color=orange)](https://github.com/abhinav-kimothi)\n",
    "[![LinkedIn](https://img.shields.io/badge/LinkedIn-000000?style=for-the-badge&logo=linkedin&logoColor=orange&color=black)](https://www.linkedin.com/comm/mynetwork/discovery-see-all?usecase=PEOPLE_FOLLOWS&followMember=abhinav-kimothi)\n",
    "[![Medium](https://img.shields.io/badge/Medium-000000?style=for-the-badge&logo=medium&logoColor=black&color=orange)](https://medium.com/@abhinavkimothi)\n",
    "[![Insta](https://img.shields.io/badge/Instagram-000000?style=for-the-badge&logo=instagram&logoColor=orange&color=black)](https://www.instagram.com/akaiworks/)\n",
    "[![Mail](https://img.shields.io/badge/email-000000?style=for-the-badge&logo=gmail&logoColor=black&color=orange)](mailto:abhinav.kimothi.ds@gmail.com)\n",
    "[![X](https://img.shields.io/badge/Follow-000000?style=for-the-badge&logo=X&logoColor=orange&color=black)](https://twitter.com/abhinav_kimothi)\n",
    "[![Linktree](https://img.shields.io/badge/Linktree-000000?style=for-the-badge&logo=linktree&logoColor=black&color=orange)](https://linktr.ee/abhinavkimothi)\n",
    "[![Gumroad](https://img.shields.io/badge/Gumroad-000000?style=for-the-badge&logo=gumroad&logoColor=orange&color=black)](https://abhinavkimothi.gumroad.com/)\n",
    "\n",
    "---"
   ]
  }
 ],
 "metadata": {
  "kernelspec": {
   "display_name": ".myenv",
   "language": "python",
   "name": "python3"
  },
  "language_info": {
   "codemirror_mode": {
    "name": "ipython",
    "version": 3
   },
   "file_extension": ".py",
   "mimetype": "text/x-python",
   "name": "python",
   "nbconvert_exporter": "python",
   "pygments_lexer": "ipython3",
   "version": "3.11.1"
  }
 },
 "nbformat": 4,
 "nbformat_minor": 2
}
