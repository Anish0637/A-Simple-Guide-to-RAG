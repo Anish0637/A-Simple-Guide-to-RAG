{
 "cells": [
  {
   "cell_type": "markdown",
   "metadata": {},
   "source": [
    "<a href=\"https://mng.bz/8wdg\" target=\"_blank\">\n",
    "    <img src=\"../../Assets/Images/NewMEAPHeader.png\" alt=\"New MEAP\" style=\"width: 100%;\" />\n",
    "</a>\n"
   ]
  },
  {
   "cell_type": "markdown",
   "metadata": {},
   "source": [
    "# Chapter 05 - RAG Evaluation: Accuracy, Relevance, Faithfulness"
   ]
  },
  {
   "cell_type": "markdown",
   "metadata": {},
   "source": [
    "### Welcome to chapter 5 of A Simple Introduction to Retrieval Augmented Generation.\n",
    "\n",
    "In this chapter, we will assess the quality of the RAG pipeline we have built in Chapter 3 & 4. We will re-use the [knowledge base](../../Assets/Data/) we created with the Wikipedia article. We will reuse the Retrieval Augmentation and Generation functions we built in Chapter 4."
   ]
  },
  {
   "cell_type": "markdown",
   "metadata": {},
   "source": [
    "## Installing Dependencies"
   ]
  },
  {
   "cell_type": "markdown",
   "metadata": {},
   "source": [
    "All the necessary libraries for running this notebook along with their versions can be found in __requirements.txt__ file in the root directory of this repository\n",
    "\n",
    "You should go to the root directory and run the following command to install the libraries\n",
    "\n",
    "```\n",
    "pip install -r requirements.txt\n",
    "```\n",
    "\n",
    "This is the recommended method of installing the dependencies\n",
    "\n",
    "___\n",
    "Alternatively, you can run the command from this notebook too. The relative path may vary"
   ]
  },
  {
   "cell_type": "code",
   "execution_count": 1,
   "metadata": {},
   "outputs": [
    {
     "name": "stdout",
     "output_type": "stream",
     "text": [
      "Note: you may need to restart the kernel to use updated packages.\n"
     ]
    }
   ],
   "source": [
    "%pip install -r ../../requirements.txt --quiet"
   ]
  },
  {
   "cell_type": "markdown",
   "metadata": {},
   "source": [
    "## 1. Re-Load the RAG Pipeline"
   ]
  },
  {
   "cell_type": "markdown",
   "metadata": {},
   "source": [
    "In chapter 4, we created the generation pipeline. We will bring that here to use it for evaluations.\n",
    "\n",
    "In Chapter 3, we were working on indexing the Wikipedia page for the 2023 cricket world cup. If you recall we had used embeddings from OpenAI to encode the text and used FAISS as the vector index to store the embeddings. We also stored the FAISS index in a local directory. We will use this in the RAG pipeline."
   ]
  },
  {
   "cell_type": "markdown",
   "metadata": {},
   "source": [
    "Note: You will need an __OpenAI API Key__ which can be obtained from [OpenAI](https://platform.openai.com/api-keys) to reuse the embeddings."
   ]
  },
  {
   "cell_type": "markdown",
   "metadata": {},
   "source": [
    "To initialize the __OpenAI client__, we need to pass the api key. There are many ways of doing it. \n",
    "\n",
    "####  [Option 1] Creating a .env file for storing the API key and using it # Recommended\n",
    "\n",
    "Install the __dotenv__ library\n",
    "\n",
    "_The dotenv library is a popular tool used in various programming languages, including Python and Node.js, to manage environment variables in development and deployment environments. It allows developers to load environment variables from a .env file into their application's environment._\n",
    "\n",
    "- Create a file named .env in the root directory of their project.\n",
    "- Inside the .env file, then define environment variables in the format VARIABLE_NAME=value. \n",
    "\n",
    "e.g.\n",
    "\n",
    "OPENAI_API_KEY=YOUR API KEY"
   ]
  },
  {
   "cell_type": "code",
   "execution_count": 2,
   "metadata": {},
   "outputs": [
    {
     "name": "stdout",
     "output_type": "stream",
     "text": [
      "Success: .env file found with some environment variables\n"
     ]
    }
   ],
   "source": [
    "from dotenv import load_dotenv\n",
    "import os\n",
    "\n",
    "if load_dotenv():\n",
    "    print(\"Success: .env file found with some environment variables\")\n",
    "else:\n",
    "    print(\"Caution: No environment variables found. Please create .env file in the root directory or add environment variables in the .env file\")"
   ]
  },
  {
   "cell_type": "markdown",
   "metadata": {},
   "source": [
    "#### [Option 2] Alternatively, you can set the API key in code. \n",
    "However, this is not recommended since it can leave your key exposed for potential misuse. Uncomment the cell below to use this method."
   ]
  },
  {
   "cell_type": "code",
   "execution_count": 3,
   "metadata": {},
   "outputs": [],
   "source": [
    "#import os\n",
    "# os.environ[\"OPENAI_API_KEY\"] = \"sk-proj-******\" #Imp : Replace with an OpenAI API Key"
   ]
  },
  {
   "cell_type": "markdown",
   "metadata": {},
   "source": [
    "We can also test if the key is valid or not"
   ]
  },
  {
   "cell_type": "code",
   "execution_count": 5,
   "metadata": {},
   "outputs": [
    {
     "name": "stdout",
     "output_type": "stream",
     "text": [
      "OPENAI_API_KEY is set and is valid\n"
     ]
    }
   ],
   "source": [
    "api_key=os.environ[\"OPENAI_API_KEY\"]\n",
    "\n",
    "import openai\n",
    "from openai import OpenAI\n",
    "\n",
    "client = OpenAI()\n",
    "\n",
    "\n",
    "if api_key:\n",
    "    try:\n",
    "        client.models.list()\n",
    "        print(\"OPENAI_API_KEY is set and is valid\")\n",
    "    except openai.APIError as e:\n",
    "        print(f\"OpenAI API returned an API Error: {e}\")\n",
    "        pass\n",
    "    except openai.APIConnectionError as e:\n",
    "        print(f\"Failed to connect to OpenAI API: {e}\")\n",
    "        pass\n",
    "    except openai.RateLimitError as e:\n",
    "        print(f\"OpenAI API request exceeded rate limit: {e}\")\n",
    "        pass\n",
    "\n",
    "else:\n",
    "    print(\"Please set you OpenAI API key as an environment variable OPENAI_API_KEY\")\n",
    "\n"
   ]
  },
  {
   "cell_type": "markdown",
   "metadata": {},
   "source": [
    "The RAG pipeline takes two inputs - \n",
    "1. User Query\n",
    "2. Location of the Vector Index (Knowledge base)\n",
    "\n",
    "And generates an answer"
   ]
  },
  {
   "cell_type": "markdown",
   "metadata": {},
   "source": [
    "#### Retrieval Function"
   ]
  },
  {
   "cell_type": "code",
   "execution_count": 6,
   "metadata": {},
   "outputs": [],
   "source": [
    "# Import FAISS class from vectorstore library\n",
    "from langchain_community.vectorstores import FAISS\n",
    "\n",
    "# Import OpenAIEmbeddings from the library\n",
    "from langchain_openai import OpenAIEmbeddings\n",
    "\n",
    "def retrieve_context(query, db_path):\n",
    "    embeddings=OpenAIEmbeddings(model=\"text-embedding-3-large\")\n",
    "\n",
    "    # Load the database stored in the local directory\n",
    "    db=FAISS.load_local(db_path, embeddings, allow_dangerous_deserialization=True)\n",
    "\n",
    "    # Ranking the chunks in descending order of similarity\n",
    "    docs = db.similarity_search(query)\n",
    "    # Selecting first chunk as the retrieved information\n",
    "    retrieved_context=docs[0].page_content\n",
    "\n",
    "    return str(retrieved_context)"
   ]
  },
  {
   "cell_type": "markdown",
   "metadata": {},
   "source": [
    "#### Augmentation Function"
   ]
  },
  {
   "cell_type": "code",
   "execution_count": 7,
   "metadata": {},
   "outputs": [],
   "source": [
    "def create_augmeted(query, db_path):\n",
    "\n",
    "    retrieved_context=retrieve_context(query,db_path)\n",
    "\n",
    "    # Creating the prompt\n",
    "    augmented_prompt=f\"\"\"\n",
    "\n",
    "    Given the context below answer the question.\n",
    "\n",
    "    Question: {query} \n",
    "\n",
    "    Context : {retrieved_context}\n",
    "\n",
    "    Remember to answer only based on the context provided and not from any other source. \n",
    "\n",
    "    If the question cannot be answered based on the provided context, say I don’t know.\n",
    "\n",
    "    \"\"\"\n",
    "\n",
    "    return retrieved_context, str(augmented_prompt)"
   ]
  },
  {
   "cell_type": "markdown",
   "metadata": {},
   "source": [
    "#### RAG function"
   ]
  },
  {
   "cell_type": "code",
   "execution_count": 8,
   "metadata": {},
   "outputs": [],
   "source": [
    "# Importing the OpenAI library\n",
    "from openai import OpenAI\n",
    "\n",
    "def create_rag(query, db_path):\n",
    "\n",
    "    retrieved_context, augmented_prompt=create_augmeted(query,db_path)\n",
    "\n",
    "\n",
    "\n",
    "    # Instantiate the OpenAI client\n",
    "    client = OpenAI()\n",
    "\n",
    "    # Make the API call passing the augmented prompt to the LLM\n",
    "    response = client.chat.completions.create(\n",
    "    model=\"gpt-4o-mini\",\n",
    "    messages=\t[\n",
    "        {\"role\": \"user\", \"content\": augmented_prompt}\n",
    "  \t\t]\n",
    "    )\n",
    "\n",
    "    # Extract the answer from the response object\n",
    "    answer=response.choices[0].message.content\n",
    "\n",
    "    return retrieved_context, answer\n"
   ]
  },
  {
   "cell_type": "markdown",
   "metadata": {},
   "source": [
    "Let's try sending our question to this function."
   ]
  },
  {
   "cell_type": "code",
   "execution_count": 9,
   "metadata": {},
   "outputs": [
    {
     "data": {
      "text/plain": [
       "(\"2023 ICC Men's Cricket World CupDates5 October – 19 November 2023Administrator(s)International Cricket CouncilCricket formatOne Day International (ODI)Tournament format(s)Round-robin and knockoutHost(s)\\xa0IndiaChampions\\xa0Australia (6th title)Runners-up\\xa0IndiaParticipants10Matches48Attendance1,250,307 (26,048 per match)Player of the series Virat KohliMost runs Virat Kohli (765)Most wickets Mohammed Shami (24)Official websitecricketworldcup.com Highlighted are the countries that participated in the 2023 Cricket World Cup. Means of qualification Date Venue Berths Qualified Host nation — — 1 \\xa0India ICC Super League 30 July 2020 – 14 May 2023 Various 7 Qualifier 18 June 2023 – 9 July 2023 Zimbabwe 2 Total 10 Location Stadium Capacity[19] No. of matches Ahmedabad Narendra Modi Stadium 132,000 5 Bangalore M. Chinnaswamy Stadium 33,800 5 Chennai M. A. Chidambaram Stadium 38,200 5 Delhi Arun Jaitley Stadium 35,200 5 Dharamshala HPCA Stadium 21,200 5 Hyderabad Rajiv Gandhi International Cricket\",\n",
       " 'Australia won the 2023 Cricket World Cup, claiming their 6th title.')"
      ]
     },
     "execution_count": 9,
     "metadata": {},
     "output_type": "execute_result"
    }
   ],
   "source": [
    "create_rag(\"Who won the 2023 Cricket World Cup?\",\"../../Assets/Data\" )"
   ]
  },
  {
   "cell_type": "markdown",
   "metadata": {},
   "source": [
    "Let's ask another one."
   ]
  },
  {
   "cell_type": "code",
   "execution_count": 10,
   "metadata": {},
   "outputs": [
    {
     "data": {
      "text/plain": [
       "('The tournament was contested by ten national teams, maintaining the same format used in 2019. After six weeks of round-robin matches, India, South Africa, Australia, and New Zealand finished as the top four and qualified for the knockout stage. In the knockout stage, India and Australia beat New Zealand and South Africa, respectively, to advance to the final, played on 19 November at the Narendra Modi Stadium in Ahmedabad. Australia won the final by six wickets, winning their sixth Cricket World Cup title.  \\nVirat Kohli was named the player of the tournament and also scored the most runs, while Mohammed Shami was the leading wicket-taker. A total of 1,250,307 spectators attended the matches, the highest number in any Cricket World Cup to date.[1] The tournament final set viewership records in India, drawing 518 million viewers, with a peak of 57 million streaming viewers.  \\nBackground',\n",
       " 'Virat Kohli was named the player of the tournament and also scored the most runs.')"
      ]
     },
     "execution_count": 10,
     "metadata": {},
     "output_type": "execute_result"
    }
   ],
   "source": [
    "create_rag(\"What was Virat Kohli's achievement in the Cup?\",\"../../Assets/Data\" )"
   ]
  },
  {
   "cell_type": "markdown",
   "metadata": {},
   "source": [
    "We can also try asking a question which is out of the scope of our knowledge base"
   ]
  },
  {
   "cell_type": "code",
   "execution_count": 11,
   "metadata": {},
   "outputs": [
    {
     "data": {
      "text/plain": [
       "('This page was last edited on 1 July 2024, at 19:04\\xa0(UTC). Text is available under the Creative Commons Attribution-ShareAlike License 4.0; additional terms may apply. By using this site, you agree to the Terms of Use and Privacy Policy. Wikipedia® is a registered trademark of the Wikimedia Foundation, Inc., a non-profit organization.  \\nPrivacy policy About Wikipedia Disclaimers Contact Wikipedia Code of Conduct Developers Statistics Cookie statement Mobile view',\n",
       " 'I don’t know.')"
      ]
     },
     "execution_count": 11,
     "metadata": {},
     "output_type": "execute_result"
    }
   ],
   "source": [
    "create_rag(\"What is RAG?\",\"../../Assets/Data\" )"
   ]
  },
  {
   "cell_type": "markdown",
   "metadata": {},
   "source": [
    "For some of the questions, the response may be \"I don't know\". That is when the LLM can't find an answer in the retrieved context. In our augmentation step, we had asked the LLM to do so. But how good is this system? We need to be able to evaluate it."
   ]
  },
  {
   "cell_type": "markdown",
   "metadata": {},
   "source": [
    "## 2. RAGAs Framework"
   ]
  },
  {
   "cell_type": "markdown",
   "metadata": {},
   "source": [
    "[Ragas](https://docs.ragas.io/en/stable/) is a framework that helps you evaluate your Retrieval Augmented Generation (RAG) pipelines. It has been developed by the good folks at [exploding gradients](https://github.com/explodinggradients)."
   ]
  },
  {
   "cell_type": "markdown",
   "metadata": {},
   "source": [
    "We will look at this evaluation in 2 parts. \n",
    "\n",
    "1. Creation of synthetic test data for evaluation.\n",
    "2. Calculation of evaluation metrics."
   ]
  },
  {
   "cell_type": "markdown",
   "metadata": {},
   "source": [
    "### 2.1 Creation of Synthetic Data"
   ]
  },
  {
   "cell_type": "markdown",
   "metadata": {},
   "source": [
    "Synthetic Data Generation uses LLMs to generate diverse questions and answers from the documents in the knowledge base. LLMs can be prompted to create questions like simple questions, multi-context questions, conditional questions, reasoning questions etc. using the documents from the knowledge base as context.\n",
    "\n",
    "<img src=\"../../Assets/Images/5.1.png\">"
   ]
  },
  {
   "cell_type": "code",
   "execution_count": 27,
   "metadata": {},
   "outputs": [
    {
     "name": "stderr",
     "output_type": "stream",
     "text": [
      "Fetching pages: 100%|##########| 1/1 [00:00<00:00,  4.40it/s]\n"
     ]
    }
   ],
   "source": [
    "from langchain_community.document_loaders import AsyncHtmlLoader\n",
    "\n",
    "#This is the url of the wikipedia page on the 2023 Cricket World Cup\n",
    "url=\"https://en.wikipedia.org/wiki/2023_Cricket_World_Cup\"\n",
    "\n",
    "#Instantiating the AsyncHtmlLoader\n",
    "loader = AsyncHtmlLoader (url)\n",
    "\n",
    "#Loading the extracted information\n",
    "data = loader.load()\n",
    "\n",
    "from langchain_community.document_transformers import Html2TextTransformer\n",
    "\n",
    "#Instantiate the Html2TextTransformer function\n",
    "html2text = Html2TextTransformer()\n",
    "\n",
    "\n",
    "#Call transform_documents\n",
    "data_transformed = html2text.transform_documents(data)"
   ]
  },
  {
   "cell_type": "code",
   "execution_count": 28,
   "metadata": {},
   "outputs": [],
   "source": [
    "from ragas.testset.generator import TestsetGenerator\n",
    "from ragas.testset.evolutions import simple, reasoning, multi_context\n",
    "from langchain_openai import ChatOpenAI, OpenAIEmbeddings"
   ]
  },
  {
   "cell_type": "code",
   "execution_count": 29,
   "metadata": {},
   "outputs": [],
   "source": [
    "generator_llm = ChatOpenAI(model=\"gpt-4o-mini\")\n",
    "critic_llm = ChatOpenAI(model=\"gpt-4o-mini\")\n",
    "embeddings = OpenAIEmbeddings()"
   ]
  },
  {
   "cell_type": "code",
   "execution_count": 30,
   "metadata": {},
   "outputs": [],
   "source": [
    "generator = TestsetGenerator.from_langchain(\n",
    "    generator_llm,\n",
    "    critic_llm,\n",
    "    embeddings\n",
    ")"
   ]
  },
  {
   "cell_type": "code",
   "execution_count": null,
   "metadata": {},
   "outputs": [],
   "source": [
    "testset = generator.generate_with_langchain_docs(data_transformed, test_size=20, distributions={simple: 0.5, reasoning: 0.25, multi_context: 0.25})\n"
   ]
  },
  {
   "cell_type": "code",
   "execution_count": 33,
   "metadata": {},
   "outputs": [
    {
     "data": {
      "text/html": [
       "<div>\n",
       "<style scoped>\n",
       "    .dataframe tbody tr th:only-of-type {\n",
       "        vertical-align: middle;\n",
       "    }\n",
       "\n",
       "    .dataframe tbody tr th {\n",
       "        vertical-align: top;\n",
       "    }\n",
       "\n",
       "    .dataframe thead th {\n",
       "        text-align: right;\n",
       "    }\n",
       "</style>\n",
       "<table border=\"1\" class=\"dataframe\">\n",
       "  <thead>\n",
       "    <tr style=\"text-align: right;\">\n",
       "      <th></th>\n",
       "      <th>question</th>\n",
       "      <th>contexts</th>\n",
       "      <th>ground_truth</th>\n",
       "      <th>evolution_type</th>\n",
       "      <th>metadata</th>\n",
       "      <th>episode_done</th>\n",
       "    </tr>\n",
       "  </thead>\n",
       "  <tbody>\n",
       "    <tr>\n",
       "      <th>0</th>\n",
       "      <td>What significance does India being the sole ho...</td>\n",
       "      <td>[ournament format(s)| Round-robin and knockout...</td>\n",
       "      <td>The significance of India being the sole host ...</td>\n",
       "      <td>simple</td>\n",
       "      <td>[{'source': 'https://en.wikipedia.org/wiki/202...</td>\n",
       "      <td>True</td>\n",
       "    </tr>\n",
       "    <tr>\n",
       "      <th>1</th>\n",
       "      <td>What were the key highlights of the 2023 ICC M...</td>\n",
       "      <td>[ournament format(s)| Round-robin and knockout...</td>\n",
       "      <td>Key highlights of the 2023 ICC Men's Cricket W...</td>\n",
       "      <td>simple</td>\n",
       "      <td>[{'source': 'https://en.wikipedia.org/wiki/202...</td>\n",
       "      <td>True</td>\n",
       "    </tr>\n",
       "    <tr>\n",
       "      <th>2</th>\n",
       "      <td>What teams qualified for the 2023 Cricket Worl...</td>\n",
       "      <td>[ stage did not qualify, with only Sri Lanka\\n...</td>\n",
       "      <td>The teams that qualified for the 2023 Cricket ...</td>\n",
       "      <td>simple</td>\n",
       "      <td>[{'source': 'https://en.wikipedia.org/wiki/202...</td>\n",
       "      <td>True</td>\n",
       "    </tr>\n",
       "    <tr>\n",
       "      <th>3</th>\n",
       "      <td>What matches were held at the Assam Cricket As...</td>\n",
       "      <td>[ Hasan 74 (89)  \\nReece Topley 3/23 (5 overs)...</td>\n",
       "      <td>The matches held at the Assam Cricket Associat...</td>\n",
       "      <td>simple</td>\n",
       "      <td>[{'source': 'https://en.wikipedia.org/wiki/202...</td>\n",
       "      <td>True</td>\n",
       "    </tr>\n",
       "    <tr>\n",
       "      <th>4</th>\n",
       "      <td>What were the key outcomes of the 2023 Cricket...</td>\n",
       "      <td>[4 (50 overs)** | |   \\n| 4 |  New Zealand | 3...</td>\n",
       "      <td>The key outcomes of the 2023 Cricket World Cup...</td>\n",
       "      <td>simple</td>\n",
       "      <td>[{'source': 'https://en.wikipedia.org/wiki/202...</td>\n",
       "      <td>True</td>\n",
       "    </tr>\n",
       "    <tr>\n",
       "      <th>5</th>\n",
       "      <td>What is the title of the official theme song f...</td>\n",
       "      <td>[ Opening batsman / wicket-keeper   \\nRohit Sh...</td>\n",
       "      <td>The official theme song of the 2023 Cricket Wo...</td>\n",
       "      <td>simple</td>\n",
       "      <td>[{'source': 'https://en.wikipedia.org/wiki/202...</td>\n",
       "      <td>True</td>\n",
       "    </tr>\n",
       "    <tr>\n",
       "      <th>6</th>\n",
       "      <td>What was the outcome of the match between Afgh...</td>\n",
       "      <td>[\\nEden Gardens, Kolkata  \\n---  \\n  \\n6 Novem...</td>\n",
       "      <td>Australia won by 3 wickets against Afghanistan...</td>\n",
       "      <td>simple</td>\n",
       "      <td>[{'source': 'https://en.wikipedia.org/wiki/202...</td>\n",
       "      <td>True</td>\n",
       "    </tr>\n",
       "    <tr>\n",
       "      <th>7</th>\n",
       "      <td>What competitions are currently ongoing in the...</td>\n",
       "      <td>[ Hong Kong in Qatar\\n  * Ireland v Afghanista...</td>\n",
       "      <td>The ongoing competitions in the Cricket World ...</td>\n",
       "      <td>simple</td>\n",
       "      <td>[{'source': 'https://en.wikipedia.org/wiki/202...</td>\n",
       "      <td>True</td>\n",
       "    </tr>\n",
       "    <tr>\n",
       "      <th>8</th>\n",
       "      <td>What was the significance of Wankhede Stadium ...</td>\n",
       "      <td>[4 (50 overs)** | |   \\n| 4 |  New Zealand | 3...</td>\n",
       "      <td>The significance of Wankhede Stadium in the 20...</td>\n",
       "      <td>simple</td>\n",
       "      <td>[{'source': 'https://en.wikipedia.org/wiki/202...</td>\n",
       "      <td>True</td>\n",
       "    </tr>\n",
       "    <tr>\n",
       "      <th>9</th>\n",
       "      <td>What was the outcome of the final match betwee...</td>\n",
       "      <td>[4 (50 overs)** | |   \\n| 4 |  New Zealand | 3...</td>\n",
       "      <td>Australia won the final match against India in...</td>\n",
       "      <td>simple</td>\n",
       "      <td>[{'source': 'https://en.wikipedia.org/wiki/202...</td>\n",
       "      <td>True</td>\n",
       "    </tr>\n",
       "    <tr>\n",
       "      <th>10</th>\n",
       "      <td>Which three countries will host the 2027 Crick...</td>\n",
       "      <td>[ * Officials\\n\\n  \\n2019 Cricket World Cup 20...</td>\n",
       "      <td>The three countries that will host the 2027 Cr...</td>\n",
       "      <td>reasoning</td>\n",
       "      <td>[{'source': 'https://en.wikipedia.org/wiki/202...</td>\n",
       "      <td>True</td>\n",
       "    </tr>\n",
       "    <tr>\n",
       "      <th>11</th>\n",
       "      <td>Which org manages the Cricket World Cup?</td>\n",
       "      <td>[ * Officials\\n\\n  \\n2019 Cricket World Cup 20...</td>\n",
       "      <td>The Cricket World Cup is managed by the Intern...</td>\n",
       "      <td>reasoning</td>\n",
       "      <td>[{'source': 'https://en.wikipedia.org/wiki/202...</td>\n",
       "      <td>True</td>\n",
       "    </tr>\n",
       "    <tr>\n",
       "      <th>12</th>\n",
       "      <td>Which three countries will host the 2027 Crick...</td>\n",
       "      <td>[ * Officials\\n\\n  \\n2019 Cricket World Cup 20...</td>\n",
       "      <td>The three countries that will host the 2027 Cr...</td>\n",
       "      <td>reasoning</td>\n",
       "      <td>[{'source': 'https://en.wikipedia.org/wiki/202...</td>\n",
       "      <td>True</td>\n",
       "    </tr>\n",
       "    <tr>\n",
       "      <th>13</th>\n",
       "      <td>Which title did Australia win by beating whom ...</td>\n",
       "      <td>[ournament format(s)| Round-robin and knockout...</td>\n",
       "      <td>Australia won the 2023 Cricket World Cup title...</td>\n",
       "      <td>reasoning</td>\n",
       "      <td>[{'source': 'https://en.wikipedia.org/wiki/202...</td>\n",
       "      <td>True</td>\n",
       "    </tr>\n",
       "    <tr>\n",
       "      <th>14</th>\n",
       "      <td>What was the margin of NZ's win over Afg on Oc...</td>\n",
       "      <td>[3 overs)  \\n---|---|---  \\n|  |   \\n**New Zea...</td>\n",
       "      <td>New Zealand won by 149 runs against Afghanista...</td>\n",
       "      <td>multi_context</td>\n",
       "      <td>[{'source': 'https://en.wikipedia.org/wiki/202...</td>\n",
       "      <td>True</td>\n",
       "    </tr>\n",
       "    <tr>\n",
       "      <th>15</th>\n",
       "      <td>Which cricket tournament with intl. teams is h...</td>\n",
       "      <td>[ Hong Kong in Qatar\\n  * Ireland v Afghanista...</td>\n",
       "      <td>The ongoing tournaments with international tea...</td>\n",
       "      <td>multi_context</td>\n",
       "      <td>[{'source': 'https://en.wikipedia.org/wiki/202...</td>\n",
       "      <td>True</td>\n",
       "    </tr>\n",
       "    <tr>\n",
       "      <th>16</th>\n",
       "      <td>Which teams made the 2023 Cricket World Cup se...</td>\n",
       "      <td>[\\nEden Gardens, Kolkata  \\n---  \\n  \\n6 Novem...</td>\n",
       "      <td>The teams that made the 2023 Cricket World Cup...</td>\n",
       "      <td>multi_context</td>\n",
       "      <td>[{'source': 'https://en.wikipedia.org/wiki/202...</td>\n",
       "      <td>True</td>\n",
       "    </tr>\n",
       "    <tr>\n",
       "      <th>17</th>\n",
       "      <td>What did Australia achieve in the 2023 ICC Men...</td>\n",
       "      <td>[ournament format(s)| Round-robin and knockout...</td>\n",
       "      <td>Australia achieved their sixth Cricket World C...</td>\n",
       "      <td>multi_context</td>\n",
       "      <td>[{'source': 'https://en.wikipedia.org/wiki/202...</td>\n",
       "      <td>True</td>\n",
       "    </tr>\n",
       "    <tr>\n",
       "      <th>18</th>\n",
       "      <td>Which cricket tournament with intl. teams is h...</td>\n",
       "      <td>[ Hong Kong in Qatar\\n  * Ireland v Afghanista...</td>\n",
       "      <td>The ongoing tournaments with international tea...</td>\n",
       "      <td>multi_context</td>\n",
       "      <td>[{'source': 'https://en.wikipedia.org/wiki/202...</td>\n",
       "      <td>True</td>\n",
       "    </tr>\n",
       "  </tbody>\n",
       "</table>\n",
       "</div>"
      ],
      "text/plain": [
       "                                             question  \\\n",
       "0   What significance does India being the sole ho...   \n",
       "1   What were the key highlights of the 2023 ICC M...   \n",
       "2   What teams qualified for the 2023 Cricket Worl...   \n",
       "3   What matches were held at the Assam Cricket As...   \n",
       "4   What were the key outcomes of the 2023 Cricket...   \n",
       "5   What is the title of the official theme song f...   \n",
       "6   What was the outcome of the match between Afgh...   \n",
       "7   What competitions are currently ongoing in the...   \n",
       "8   What was the significance of Wankhede Stadium ...   \n",
       "9   What was the outcome of the final match betwee...   \n",
       "10  Which three countries will host the 2027 Crick...   \n",
       "11           Which org manages the Cricket World Cup?   \n",
       "12  Which three countries will host the 2027 Crick...   \n",
       "13  Which title did Australia win by beating whom ...   \n",
       "14  What was the margin of NZ's win over Afg on Oc...   \n",
       "15  Which cricket tournament with intl. teams is h...   \n",
       "16  Which teams made the 2023 Cricket World Cup se...   \n",
       "17  What did Australia achieve in the 2023 ICC Men...   \n",
       "18  Which cricket tournament with intl. teams is h...   \n",
       "\n",
       "                                             contexts  \\\n",
       "0   [ournament format(s)| Round-robin and knockout...   \n",
       "1   [ournament format(s)| Round-robin and knockout...   \n",
       "2   [ stage did not qualify, with only Sri Lanka\\n...   \n",
       "3   [ Hasan 74 (89)  \\nReece Topley 3/23 (5 overs)...   \n",
       "4   [4 (50 overs)** | |   \\n| 4 |  New Zealand | 3...   \n",
       "5   [ Opening batsman / wicket-keeper   \\nRohit Sh...   \n",
       "6   [\\nEden Gardens, Kolkata  \\n---  \\n  \\n6 Novem...   \n",
       "7   [ Hong Kong in Qatar\\n  * Ireland v Afghanista...   \n",
       "8   [4 (50 overs)** | |   \\n| 4 |  New Zealand | 3...   \n",
       "9   [4 (50 overs)** | |   \\n| 4 |  New Zealand | 3...   \n",
       "10  [ * Officials\\n\\n  \\n2019 Cricket World Cup 20...   \n",
       "11  [ * Officials\\n\\n  \\n2019 Cricket World Cup 20...   \n",
       "12  [ * Officials\\n\\n  \\n2019 Cricket World Cup 20...   \n",
       "13  [ournament format(s)| Round-robin and knockout...   \n",
       "14  [3 overs)  \\n---|---|---  \\n|  |   \\n**New Zea...   \n",
       "15  [ Hong Kong in Qatar\\n  * Ireland v Afghanista...   \n",
       "16  [\\nEden Gardens, Kolkata  \\n---  \\n  \\n6 Novem...   \n",
       "17  [ournament format(s)| Round-robin and knockout...   \n",
       "18  [ Hong Kong in Qatar\\n  * Ireland v Afghanista...   \n",
       "\n",
       "                                         ground_truth evolution_type  \\\n",
       "0   The significance of India being the sole host ...         simple   \n",
       "1   Key highlights of the 2023 ICC Men's Cricket W...         simple   \n",
       "2   The teams that qualified for the 2023 Cricket ...         simple   \n",
       "3   The matches held at the Assam Cricket Associat...         simple   \n",
       "4   The key outcomes of the 2023 Cricket World Cup...         simple   \n",
       "5   The official theme song of the 2023 Cricket Wo...         simple   \n",
       "6   Australia won by 3 wickets against Afghanistan...         simple   \n",
       "7   The ongoing competitions in the Cricket World ...         simple   \n",
       "8   The significance of Wankhede Stadium in the 20...         simple   \n",
       "9   Australia won the final match against India in...         simple   \n",
       "10  The three countries that will host the 2027 Cr...      reasoning   \n",
       "11  The Cricket World Cup is managed by the Intern...      reasoning   \n",
       "12  The three countries that will host the 2027 Cr...      reasoning   \n",
       "13  Australia won the 2023 Cricket World Cup title...      reasoning   \n",
       "14  New Zealand won by 149 runs against Afghanista...  multi_context   \n",
       "15  The ongoing tournaments with international tea...  multi_context   \n",
       "16  The teams that made the 2023 Cricket World Cup...  multi_context   \n",
       "17  Australia achieved their sixth Cricket World C...  multi_context   \n",
       "18  The ongoing tournaments with international tea...  multi_context   \n",
       "\n",
       "                                             metadata  episode_done  \n",
       "0   [{'source': 'https://en.wikipedia.org/wiki/202...          True  \n",
       "1   [{'source': 'https://en.wikipedia.org/wiki/202...          True  \n",
       "2   [{'source': 'https://en.wikipedia.org/wiki/202...          True  \n",
       "3   [{'source': 'https://en.wikipedia.org/wiki/202...          True  \n",
       "4   [{'source': 'https://en.wikipedia.org/wiki/202...          True  \n",
       "5   [{'source': 'https://en.wikipedia.org/wiki/202...          True  \n",
       "6   [{'source': 'https://en.wikipedia.org/wiki/202...          True  \n",
       "7   [{'source': 'https://en.wikipedia.org/wiki/202...          True  \n",
       "8   [{'source': 'https://en.wikipedia.org/wiki/202...          True  \n",
       "9   [{'source': 'https://en.wikipedia.org/wiki/202...          True  \n",
       "10  [{'source': 'https://en.wikipedia.org/wiki/202...          True  \n",
       "11  [{'source': 'https://en.wikipedia.org/wiki/202...          True  \n",
       "12  [{'source': 'https://en.wikipedia.org/wiki/202...          True  \n",
       "13  [{'source': 'https://en.wikipedia.org/wiki/202...          True  \n",
       "14  [{'source': 'https://en.wikipedia.org/wiki/202...          True  \n",
       "15  [{'source': 'https://en.wikipedia.org/wiki/202...          True  \n",
       "16  [{'source': 'https://en.wikipedia.org/wiki/202...          True  \n",
       "17  [{'source': 'https://en.wikipedia.org/wiki/202...          True  \n",
       "18  [{'source': 'https://en.wikipedia.org/wiki/202...          True  "
      ]
     },
     "execution_count": 33,
     "metadata": {},
     "output_type": "execute_result"
    }
   ],
   "source": [
    "testset.to_pandas()"
   ]
  },
  {
   "cell_type": "markdown",
   "metadata": {},
   "source": [
    "### 2.2 Using the RAG pipeline\n",
    "\n",
    "Now, we will use the RAG pipeline we had created to generate responses to the questions in the synthetic dataset"
   ]
  },
  {
   "cell_type": "code",
   "execution_count": 35,
   "metadata": {},
   "outputs": [],
   "source": [
    "db_path='../../Assets/Data'"
   ]
  },
  {
   "cell_type": "code",
   "execution_count": 36,
   "metadata": {},
   "outputs": [],
   "source": [
    "questions_list=testset.to_pandas().question.to_list()\n",
    "gt_list=testset.to_pandas().ground_truth.to_list()\n",
    "\n",
    "answer_list=[]\n",
    "context_list=[]\n",
    "\n",
    "for record in testset.test_data:\n",
    "    rag_context, rag_answer=create_rag(record.question,db_path)\n",
    "    ground_truth=record.ground_truth\n",
    "    answer_list.append(rag_answer)\n",
    "    context_list.append([rag_context])\n",
    "\n",
    "data_samples={\n",
    "    'question':questions_list,\n",
    "    'answer':answer_list,\n",
    "    'contexts': context_list,\n",
    "    'ground_truth':gt_list\n",
    "}"
   ]
  },
  {
   "cell_type": "code",
   "execution_count": 37,
   "metadata": {},
   "outputs": [],
   "source": [
    "from datasets import Dataset\n",
    "dataset = Dataset.from_dict(data_samples)"
   ]
  },
  {
   "cell_type": "code",
   "execution_count": 38,
   "metadata": {},
   "outputs": [
    {
     "data": {
      "text/plain": [
       "{'question': 'What teams qualified for the 2023 Cricket World Cup through the qualification process?',\n",
       " 'answer': 'The teams that qualified for the 2023 Cricket World Cup through the qualification process are the Netherlands and Sri Lanka.',\n",
       " 'contexts': ['Qualified via the 2020–2023 Super League  \\n\\xa0\\xa0Qualified via the 2023 Qualifier  \\n\\xa0\\xa0Participated in the qualifier but failed to qualify  \\nMain article: 2023 Cricket World Cup qualification  \\nOther than India, who qualified as hosts, all teams had to qualify for the tournament through the 2023 Cricket World Cup qualification process. Afghanistan, Australia, Bangladesh, England, New Zealand, Pakistan and South Africa qualified via the ICC Cricket World Cup Super League, with the Netherlands and Sri Lanka securing the final two places via the 2023 Cricket World Cup Qualifier in Zimbabwe during June and July 2023.'],\n",
       " 'ground_truth': 'The teams that qualified for the 2023 Cricket World Cup through the qualification process are Sri Lanka and the Netherlands.'}"
      ]
     },
     "execution_count": 38,
     "metadata": {},
     "output_type": "execute_result"
    }
   ],
   "source": [
    "dataset[2]"
   ]
  },
  {
   "cell_type": "code",
   "execution_count": 39,
   "metadata": {},
   "outputs": [
    {
     "data": {
      "text/plain": [
       "{'question': 'What competitions are currently ongoing in the Cricket World Cup League 2?',\n",
       " 'answer': 'I don’t know.',\n",
       " 'contexts': [\"Afghanistan in Sri Lanka South Africa in New Zealand Kuwait women in Malaysia Canada in Nepal ACC Women's Premier Cup Thailand Quadrangular Series East Asia Cup Nepal Tri-Nation Series (round 1) Australia in New Zealand CWC Challenge League Play-off Nigeria Invitational Nepal T20I Tri-Nation Series Hong Kong in Qatar Ireland v Afghanistan in the UAE UAE Tri-Nation Series (round 2)  \\nSri Lanka in Bangladesh Malaysia Open Championship PNG in Oman African Games Hong Kong Tri-Nation Series Scotland in the UAE PNG in Malaysia England women in New Zealand Australia women in Bangladesh PNG women in Zimbabwe Sri Lanka women in South Africa Lesotho in Eswatini  \\nM W  \\nWorld Test Championship Women's Championship Cricket World Cup League 2 Associate T20I cricket  \\nFollowing Season: International cricket in 2024  \\nSummer sports &indoor sportsWinter sportsCue & mind sportsMotor sports  \\nvte  \\nWorld championships in 2023\"],\n",
       " 'ground_truth': \"The ongoing competitions in the Cricket World Cup League 2 include the World Test Championship, Women's Championship, Cricket World Cup League 2, and Associate T20I cricket.\"}"
      ]
     },
     "execution_count": 39,
     "metadata": {},
     "output_type": "execute_result"
    }
   ],
   "source": [
    "dataset[7]"
   ]
  },
  {
   "cell_type": "markdown",
   "metadata": {},
   "source": [
    "### 2.3 Calculating Evaluation Metrics\n",
    "\n",
    "We will use RAGAS metrics which will compare the answers to the ground truths "
   ]
  },
  {
   "cell_type": "code",
   "execution_count": 40,
   "metadata": {},
   "outputs": [],
   "source": [
    "from ragas import evaluate\n",
    "from ragas.metrics import (\n",
    "    answer_relevancy,\n",
    "    faithfulness,\n",
    "    context_recall,\n",
    "    context_precision,\n",
    "    context_entity_recall,\n",
    "    answer_similarity,\n",
    "    answer_correctness\n",
    ")\n",
    "from ragas.metrics.critique import (\n",
    "    harmfulness, \n",
    "    maliciousness, \n",
    "    coherence, \n",
    "    correctness, \n",
    "    conciseness\n",
    ")\n"
   ]
  },
  {
   "cell_type": "code",
   "execution_count": null,
   "metadata": {},
   "outputs": [],
   "source": [
    "result = evaluate(\n",
    "    dataset,\n",
    "    metrics=[\n",
    "        context_precision,\n",
    "        faithfulness,\n",
    "        answer_relevancy,\n",
    "        context_recall,\n",
    "        context_entity_recall,\n",
    "        answer_similarity,\n",
    "        answer_correctness,\n",
    "        \n",
    "        harmfulness, \n",
    "        maliciousness, \n",
    "        coherence, \n",
    "        correctness, \n",
    "        conciseness\n",
    "\n",
    "    ],\n",
    ")\n"
   ]
  },
  {
   "cell_type": "code",
   "execution_count": 42,
   "metadata": {},
   "outputs": [
    {
     "name": "stdout",
     "output_type": "stream",
     "text": [
      "{\n",
      "    \"context_precision\": 0.7894736841315789,\n",
      "    \"faithfulness\": 0.45375939849624064,\n",
      "    \"answer_relevancy\": 0.4585481970073529,\n",
      "    \"context_recall\": 0.6447368421052632,\n",
      "    \"context_entity_recall\": 0.5090755722231386,\n",
      "    \"answer_similarity\": 0.855347300001274,\n",
      "    \"answer_correctness\": 0.5711883747536411,\n",
      "    \"harmfulness\": 0.0,\n",
      "    \"maliciousness\": 0.05263157894736842,\n",
      "    \"coherence\": 0.5263157894736842,\n",
      "    \"correctness\": 0.5263157894736842,\n",
      "    \"conciseness\": 0.47368421052631576\n",
      "}\n"
     ]
    }
   ],
   "source": [
    "import json\n",
    "\n",
    "print(json.dumps(result, indent=4))"
   ]
  },
  {
   "cell_type": "markdown",
   "metadata": {},
   "source": [
    "___\n",
    "You can interpret the results above. Looks like we are performing well on __context_precision__ and __answer_similarity__ but other metrics are low. How to improve the metrics? We will look at advanced pre-retrieval, retrieval and post retrieval strategies in the next chapter."
   ]
  },
  {
   "cell_type": "markdown",
   "metadata": {},
   "source": [
    "---"
   ]
  },
  {
   "cell_type": "markdown",
   "metadata": {},
   "source": [
    "<img src=\"../../Assets/Images/profile_s.png\" width=100> \n",
    "\n",
    "Hi! I'm Abhinav! I am an entrepreneur and Vice President of Artificial Intelligence at Yarnit. I have spent over 15 years consulting and leadership roles in data science, machine learning and AI. My current focus is in the applied Generative AI domain focussing on solving enterprise needs through contextual intelligence. I'm passionate about AI advancements constantly exploring emerging technologies to push the boundaries and create positive impacts in the world. Let’s build the future, together!\n",
    "\n",
    "[If you haven't already, please subscribe to the MEAP of A Simple Guide to Retrieval Augmented Generation here](https://mng.bz/8wdg)\n",
    "\n",
    "<a href=\"https://mng.bz/8wdg\" target=\"_blank\">\n",
    "    <img src=\"../../Assets/Images/NewMEAPFooter.png\" alt=\"New MEAP\" style=\"width: 100%;\" />\n",
    "</a>\n",
    "\n",
    "#### If you'd like to chat, I'd be very happy to connect\n",
    "\n",
    "[![GitHub followers](https://img.shields.io/badge/Github-000000?style=for-the-badge&logo=github&logoColor=black&color=orange)](https://github.com/abhinav-kimothi)\n",
    "[![LinkedIn](https://img.shields.io/badge/LinkedIn-000000?style=for-the-badge&logo=linkedin&logoColor=orange&color=black)](https://www.linkedin.com/comm/mynetwork/discovery-see-all?usecase=PEOPLE_FOLLOWS&followMember=abhinav-kimothi)\n",
    "[![Medium](https://img.shields.io/badge/Medium-000000?style=for-the-badge&logo=medium&logoColor=black&color=orange)](https://medium.com/@abhinavkimothi)\n",
    "[![Insta](https://img.shields.io/badge/Instagram-000000?style=for-the-badge&logo=instagram&logoColor=orange&color=black)](https://www.instagram.com/akaiworks/)\n",
    "[![Mail](https://img.shields.io/badge/email-000000?style=for-the-badge&logo=gmail&logoColor=black&color=orange)](mailto:abhinav.kimothi.ds@gmail.com)\n",
    "[![X](https://img.shields.io/badge/Follow-000000?style=for-the-badge&logo=X&logoColor=orange&color=black)](https://twitter.com/abhinav_kimothi)\n",
    "[![Linktree](https://img.shields.io/badge/Linktree-000000?style=for-the-badge&logo=linktree&logoColor=black&color=orange)](https://linktr.ee/abhinavkimothi)\n",
    "[![Gumroad](https://img.shields.io/badge/Gumroad-000000?style=for-the-badge&logo=gumroad&logoColor=orange&color=black)](https://abhinavkimothi.gumroad.com/)\n",
    "\n",
    "---"
   ]
  }
 ],
 "metadata": {
  "kernelspec": {
   "display_name": ".myenv",
   "language": "python",
   "name": "python3"
  },
  "language_info": {
   "codemirror_mode": {
    "name": "ipython",
    "version": 3
   },
   "file_extension": ".py",
   "mimetype": "text/x-python",
   "name": "python",
   "nbconvert_exporter": "python",
   "pygments_lexer": "ipython3",
   "version": "3.11.1"
  }
 },
 "nbformat": 4,
 "nbformat_minor": 2
}
